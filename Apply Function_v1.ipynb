{
 "cells": [
  {
   "cell_type": "markdown",
   "id": "3fb0f4d2",
   "metadata": {},
   "source": [
    "# Apply Function"
   ]
  },
  {
   "cell_type": "code",
   "execution_count": 1,
   "id": "1f8119aa",
   "metadata": {},
   "outputs": [],
   "source": [
    "import pandas as pd\n",
    "import numpy as np\n",
    "import warnings as wr\n",
    "wr.filterwarnings('ignore')"
   ]
  },
  {
   "cell_type": "code",
   "execution_count": 2,
   "id": "9457d71a",
   "metadata": {},
   "outputs": [
    {
     "data": {
      "text/html": [
       "<div>\n",
       "<style scoped>\n",
       "    .dataframe tbody tr th:only-of-type {\n",
       "        vertical-align: middle;\n",
       "    }\n",
       "\n",
       "    .dataframe tbody tr th {\n",
       "        vertical-align: top;\n",
       "    }\n",
       "\n",
       "    .dataframe thead th {\n",
       "        text-align: right;\n",
       "    }\n",
       "</style>\n",
       "<table border=\"1\" class=\"dataframe\">\n",
       "  <thead>\n",
       "    <tr style=\"text-align: right;\">\n",
       "      <th></th>\n",
       "      <th>Job ID</th>\n",
       "      <th>Agency</th>\n",
       "      <th>Posting Type</th>\n",
       "      <th>Civil Service Title</th>\n",
       "      <th>Job Category</th>\n",
       "      <th>Salary Range From</th>\n",
       "      <th>Salary Range To</th>\n",
       "      <th>Process Date</th>\n",
       "    </tr>\n",
       "  </thead>\n",
       "  <tbody>\n",
       "    <tr>\n",
       "      <th>0</th>\n",
       "      <td>424339</td>\n",
       "      <td>DEPT OF HEALTH/MENTAL HYGIENE</td>\n",
       "      <td>External</td>\n",
       "      <td>PUBLIC HEALTH NURSE</td>\n",
       "      <td>Health</td>\n",
       "      <td>84252.0</td>\n",
       "      <td>84252.0</td>\n",
       "      <td>04-12-22</td>\n",
       "    </tr>\n",
       "    <tr>\n",
       "      <th>1</th>\n",
       "      <td>379094</td>\n",
       "      <td>NYC EMPLOYEES RETIREMENT SYS</td>\n",
       "      <td>External</td>\n",
       "      <td>CERT IT DEVELOPER (APP)</td>\n",
       "      <td>Technology, Data &amp; Innovation</td>\n",
       "      <td>82884.0</td>\n",
       "      <td>116391.0</td>\n",
       "      <td>04-12-22</td>\n",
       "    </tr>\n",
       "    <tr>\n",
       "      <th>2</th>\n",
       "      <td>520417</td>\n",
       "      <td>NYC HOUSING AUTHORITY</td>\n",
       "      <td>External</td>\n",
       "      <td>EXECUTIVE AGENCY COUNSEL</td>\n",
       "      <td>Legal Affairs</td>\n",
       "      <td>105000.0</td>\n",
       "      <td>125000.0</td>\n",
       "      <td>04-12-22</td>\n",
       "    </tr>\n",
       "    <tr>\n",
       "      <th>3</th>\n",
       "      <td>233549</td>\n",
       "      <td>NYC EMPLOYEES RETIREMENT SYS</td>\n",
       "      <td>External</td>\n",
       "      <td>CERTIFIED IT ADMINISTRATOR (LA</td>\n",
       "      <td>Information Technology &amp; Telecommunications</td>\n",
       "      <td>87203.0</td>\n",
       "      <td>131623.0</td>\n",
       "      <td>04-12-22</td>\n",
       "    </tr>\n",
       "    <tr>\n",
       "      <th>4</th>\n",
       "      <td>510256</td>\n",
       "      <td>HUMAN RIGHTS COMMISSION</td>\n",
       "      <td>External</td>\n",
       "      <td>ASSOCIATE HUMAN RIGHTS SPECIAL</td>\n",
       "      <td>Constituent Services &amp; Community Programs</td>\n",
       "      <td>58449.0</td>\n",
       "      <td>67216.0</td>\n",
       "      <td>04-12-22</td>\n",
       "    </tr>\n",
       "  </tbody>\n",
       "</table>\n",
       "</div>"
      ],
      "text/plain": [
       "   Job ID                         Agency Posting Type  \\\n",
       "0  424339  DEPT OF HEALTH/MENTAL HYGIENE     External   \n",
       "1  379094   NYC EMPLOYEES RETIREMENT SYS     External   \n",
       "2  520417          NYC HOUSING AUTHORITY     External   \n",
       "3  233549   NYC EMPLOYEES RETIREMENT SYS     External   \n",
       "4  510256        HUMAN RIGHTS COMMISSION     External   \n",
       "\n",
       "              Civil Service Title  \\\n",
       "0             PUBLIC HEALTH NURSE   \n",
       "1         CERT IT DEVELOPER (APP)   \n",
       "2        EXECUTIVE AGENCY COUNSEL   \n",
       "3  CERTIFIED IT ADMINISTRATOR (LA   \n",
       "4  ASSOCIATE HUMAN RIGHTS SPECIAL   \n",
       "\n",
       "                                  Job Category  Salary Range From  \\\n",
       "0                                       Health            84252.0   \n",
       "1                Technology, Data & Innovation            82884.0   \n",
       "2                                Legal Affairs           105000.0   \n",
       "3  Information Technology & Telecommunications            87203.0   \n",
       "4    Constituent Services & Community Programs            58449.0   \n",
       "\n",
       "   Salary Range To Process Date  \n",
       "0          84252.0     04-12-22  \n",
       "1         116391.0     04-12-22  \n",
       "2         125000.0     04-12-22  \n",
       "3         131623.0     04-12-22  \n",
       "4          67216.0     04-12-22  "
      ]
     },
     "execution_count": 2,
     "metadata": {},
     "output_type": "execute_result"
    }
   ],
   "source": [
    "data = pd.read_csv('NYC_Jobs.csv')\n",
    "data.head()"
   ]
  },
  {
   "cell_type": "code",
   "execution_count": 3,
   "id": "0d960e53",
   "metadata": {},
   "outputs": [],
   "source": [
    "df = data.copy()"
   ]
  },
  {
   "cell_type": "markdown",
   "id": "12d775a5",
   "metadata": {},
   "source": [
    "### Test 1.0: Apply - Square Root"
   ]
  },
  {
   "cell_type": "code",
   "execution_count": 4,
   "id": "6e6afa81",
   "metadata": {},
   "outputs": [
    {
     "data": {
      "text/plain": [
       "0       290.261951\n",
       "1       287.895814\n",
       "2       324.037035\n",
       "3       295.301541\n",
       "4       241.762280\n",
       "           ...    \n",
       "3768    292.183162\n",
       "3769    273.221522\n",
       "3770    316.227766\n",
       "3771    205.640463\n",
       "3772    249.793915\n",
       "Name: Salary Range From, Length: 3773, dtype: float64"
      ]
     },
     "execution_count": 4,
     "metadata": {},
     "output_type": "execute_result"
    }
   ],
   "source": [
    "# 1.0 Single bracket, return series object\n",
    "data['Salary Range From'].apply(np.sqrt)"
   ]
  },
  {
   "cell_type": "code",
   "execution_count": 5,
   "id": "6d5dbaa6",
   "metadata": {},
   "outputs": [
    {
     "data": {
      "text/html": [
       "<div>\n",
       "<style scoped>\n",
       "    .dataframe tbody tr th:only-of-type {\n",
       "        vertical-align: middle;\n",
       "    }\n",
       "\n",
       "    .dataframe tbody tr th {\n",
       "        vertical-align: top;\n",
       "    }\n",
       "\n",
       "    .dataframe thead th {\n",
       "        text-align: right;\n",
       "    }\n",
       "</style>\n",
       "<table border=\"1\" class=\"dataframe\">\n",
       "  <thead>\n",
       "    <tr style=\"text-align: right;\">\n",
       "      <th></th>\n",
       "      <th>Salary Range From</th>\n",
       "    </tr>\n",
       "  </thead>\n",
       "  <tbody>\n",
       "    <tr>\n",
       "      <th>0</th>\n",
       "      <td>290.261951</td>\n",
       "    </tr>\n",
       "    <tr>\n",
       "      <th>1</th>\n",
       "      <td>287.895814</td>\n",
       "    </tr>\n",
       "    <tr>\n",
       "      <th>2</th>\n",
       "      <td>324.037035</td>\n",
       "    </tr>\n",
       "    <tr>\n",
       "      <th>3</th>\n",
       "      <td>295.301541</td>\n",
       "    </tr>\n",
       "    <tr>\n",
       "      <th>4</th>\n",
       "      <td>241.762280</td>\n",
       "    </tr>\n",
       "    <tr>\n",
       "      <th>...</th>\n",
       "      <td>...</td>\n",
       "    </tr>\n",
       "    <tr>\n",
       "      <th>3768</th>\n",
       "      <td>292.183162</td>\n",
       "    </tr>\n",
       "    <tr>\n",
       "      <th>3769</th>\n",
       "      <td>273.221522</td>\n",
       "    </tr>\n",
       "    <tr>\n",
       "      <th>3770</th>\n",
       "      <td>316.227766</td>\n",
       "    </tr>\n",
       "    <tr>\n",
       "      <th>3771</th>\n",
       "      <td>205.640463</td>\n",
       "    </tr>\n",
       "    <tr>\n",
       "      <th>3772</th>\n",
       "      <td>249.793915</td>\n",
       "    </tr>\n",
       "  </tbody>\n",
       "</table>\n",
       "<p>3773 rows × 1 columns</p>\n",
       "</div>"
      ],
      "text/plain": [
       "      Salary Range From\n",
       "0            290.261951\n",
       "1            287.895814\n",
       "2            324.037035\n",
       "3            295.301541\n",
       "4            241.762280\n",
       "...                 ...\n",
       "3768         292.183162\n",
       "3769         273.221522\n",
       "3770         316.227766\n",
       "3771         205.640463\n",
       "3772         249.793915\n",
       "\n",
       "[3773 rows x 1 columns]"
      ]
     },
     "execution_count": 5,
     "metadata": {},
     "output_type": "execute_result"
    }
   ],
   "source": [
    "# data frame object 1.2\n",
    "data[['Salary Range From']].apply(np.sqrt)"
   ]
  },
  {
   "cell_type": "code",
   "execution_count": 6,
   "id": "9f421fee",
   "metadata": {},
   "outputs": [
    {
     "data": {
      "text/plain": [
       "pandas.core.frame.DataFrame"
      ]
     },
     "execution_count": 6,
     "metadata": {},
     "output_type": "execute_result"
    }
   ],
   "source": [
    "# test 1.3, see the type ita dataFrame object\n",
    "type(data[['Salary Range From', 'Salary Range To']])"
   ]
  },
  {
   "cell_type": "code",
   "execution_count": 7,
   "id": "0d92a94a",
   "metadata": {},
   "outputs": [
    {
     "data": {
      "text/html": [
       "<div>\n",
       "<style scoped>\n",
       "    .dataframe tbody tr th:only-of-type {\n",
       "        vertical-align: middle;\n",
       "    }\n",
       "\n",
       "    .dataframe tbody tr th {\n",
       "        vertical-align: top;\n",
       "    }\n",
       "\n",
       "    .dataframe thead th {\n",
       "        text-align: right;\n",
       "    }\n",
       "</style>\n",
       "<table border=\"1\" class=\"dataframe\">\n",
       "  <thead>\n",
       "    <tr style=\"text-align: right;\">\n",
       "      <th></th>\n",
       "      <th>Salary Range From</th>\n",
       "      <th>Salary Range To</th>\n",
       "    </tr>\n",
       "  </thead>\n",
       "  <tbody>\n",
       "    <tr>\n",
       "      <th>0</th>\n",
       "      <td>290.261951</td>\n",
       "      <td>290.261951</td>\n",
       "    </tr>\n",
       "    <tr>\n",
       "      <th>1</th>\n",
       "      <td>287.895814</td>\n",
       "      <td>341.161252</td>\n",
       "    </tr>\n",
       "    <tr>\n",
       "      <th>2</th>\n",
       "      <td>324.037035</td>\n",
       "      <td>353.553391</td>\n",
       "    </tr>\n",
       "    <tr>\n",
       "      <th>3</th>\n",
       "      <td>295.301541</td>\n",
       "      <td>362.798842</td>\n",
       "    </tr>\n",
       "    <tr>\n",
       "      <th>4</th>\n",
       "      <td>241.762280</td>\n",
       "      <td>259.260487</td>\n",
       "    </tr>\n",
       "    <tr>\n",
       "      <th>...</th>\n",
       "      <td>...</td>\n",
       "      <td>...</td>\n",
       "    </tr>\n",
       "    <tr>\n",
       "      <th>3768</th>\n",
       "      <td>292.183162</td>\n",
       "      <td>346.241245</td>\n",
       "    </tr>\n",
       "    <tr>\n",
       "      <th>3769</th>\n",
       "      <td>273.221522</td>\n",
       "      <td>292.996587</td>\n",
       "    </tr>\n",
       "    <tr>\n",
       "      <th>3770</th>\n",
       "      <td>316.227766</td>\n",
       "      <td>339.116499</td>\n",
       "    </tr>\n",
       "    <tr>\n",
       "      <th>3771</th>\n",
       "      <td>205.640463</td>\n",
       "      <td>243.721152</td>\n",
       "    </tr>\n",
       "    <tr>\n",
       "      <th>3772</th>\n",
       "      <td>249.793915</td>\n",
       "      <td>267.874971</td>\n",
       "    </tr>\n",
       "  </tbody>\n",
       "</table>\n",
       "<p>3773 rows × 2 columns</p>\n",
       "</div>"
      ],
      "text/plain": [
       "      Salary Range From  Salary Range To\n",
       "0            290.261951       290.261951\n",
       "1            287.895814       341.161252\n",
       "2            324.037035       353.553391\n",
       "3            295.301541       362.798842\n",
       "4            241.762280       259.260487\n",
       "...                 ...              ...\n",
       "3768         292.183162       346.241245\n",
       "3769         273.221522       292.996587\n",
       "3770         316.227766       339.116499\n",
       "3771         205.640463       243.721152\n",
       "3772         249.793915       267.874971\n",
       "\n",
       "[3773 rows x 2 columns]"
      ]
     },
     "execution_count": 7,
     "metadata": {},
     "output_type": "execute_result"
    }
   ],
   "source": [
    "data[['Salary Range From', 'Salary Range To']].apply(np.sqrt)"
   ]
  },
  {
   "cell_type": "markdown",
   "id": "093a8d48",
   "metadata": {},
   "source": [
    "### Take Away:"
   ]
  },
  {
   "cell_type": "markdown",
   "id": "75e96ffc",
   "metadata": {},
   "source": [
    "1. Pandas Apply function can be applied on either Series object or DataFrame object, can not apply on whole data is str"
   ]
  },
  {
   "cell_type": "markdown",
   "id": "8cf3bd1a",
   "metadata": {},
   "source": [
    "### Test 2:0 - Find the Average Salary for Each Job"
   ]
  },
  {
   "cell_type": "markdown",
   "id": "aa4bf934",
   "metadata": {},
   "source": [
    "1. it can apply for each row or each columns, by default it apply on columns"
   ]
  },
  {
   "cell_type": "code",
   "execution_count": 8,
   "id": "361637c9",
   "metadata": {},
   "outputs": [
    {
     "data": {
      "text/plain": [
       "Salary Range From    57657.939466\n",
       "Salary Range To      79660.249595\n",
       "dtype: float64"
      ]
     },
     "execution_count": 8,
     "metadata": {},
     "output_type": "execute_result"
    }
   ],
   "source": [
    "# Test 2.1, Applied on columns\n",
    "data[['Salary Range From', 'Salary Range To']].apply(np.mean)  # default"
   ]
  },
  {
   "cell_type": "code",
   "execution_count": 9,
   "id": "590949b0",
   "metadata": {},
   "outputs": [
    {
     "data": {
      "text/plain": [
       "Salary Range From    57657.939466\n",
       "Salary Range To      79660.249595\n",
       "dtype: float64"
      ]
     },
     "execution_count": 9,
     "metadata": {},
     "output_type": "execute_result"
    }
   ],
   "source": [
    "data[['Salary Range From', 'Salary Range To']].apply(np.mean, axis=0) # default"
   ]
  },
  {
   "cell_type": "code",
   "execution_count": 10,
   "id": "eafa8319",
   "metadata": {},
   "outputs": [
    {
     "data": {
      "text/plain": [
       "0        84252.0\n",
       "1        99637.5\n",
       "2       115000.0\n",
       "3       109413.0\n",
       "4        62832.5\n",
       "          ...   \n",
       "3768    102627.0\n",
       "3769     80248.5\n",
       "3770    107500.0\n",
       "3771     50844.0\n",
       "3772     67077.0\n",
       "Length: 3773, dtype: float64"
      ]
     },
     "execution_count": 10,
     "metadata": {},
     "output_type": "execute_result"
    }
   ],
   "source": [
    "# Average Salary, Row wise average\n",
    "data[['Salary Range From', 'Salary Range To']].apply(np.mean, axis=1) # specied for row"
   ]
  },
  {
   "cell_type": "code",
   "execution_count": 11,
   "id": "e4acdb8e",
   "metadata": {},
   "outputs": [
    {
     "data": {
      "text/plain": [
       "pandas.core.series.Series"
      ]
     },
     "execution_count": 11,
     "metadata": {},
     "output_type": "execute_result"
    }
   ],
   "source": [
    "# Check data type >> Series\n",
    "type(data[['Salary Range From', 'Salary Range To']].apply(np.mean, axis=1))"
   ]
  },
  {
   "cell_type": "markdown",
   "id": "10d86bea",
   "metadata": {},
   "source": [
    "1. it will not effect original dataframe, but it is possible to add the output in dataframe as test follow:"
   ]
  },
  {
   "cell_type": "code",
   "execution_count": 12,
   "id": "8d179336",
   "metadata": {},
   "outputs": [
    {
     "data": {
      "text/html": [
       "<div>\n",
       "<style scoped>\n",
       "    .dataframe tbody tr th:only-of-type {\n",
       "        vertical-align: middle;\n",
       "    }\n",
       "\n",
       "    .dataframe tbody tr th {\n",
       "        vertical-align: top;\n",
       "    }\n",
       "\n",
       "    .dataframe thead th {\n",
       "        text-align: right;\n",
       "    }\n",
       "</style>\n",
       "<table border=\"1\" class=\"dataframe\">\n",
       "  <thead>\n",
       "    <tr style=\"text-align: right;\">\n",
       "      <th></th>\n",
       "      <th>Job ID</th>\n",
       "      <th>Agency</th>\n",
       "      <th>Posting Type</th>\n",
       "      <th>Civil Service Title</th>\n",
       "      <th>Job Category</th>\n",
       "      <th>Salary Range From</th>\n",
       "      <th>Salary Range To</th>\n",
       "      <th>Process Date</th>\n",
       "      <th>Salary Avg.</th>\n",
       "    </tr>\n",
       "  </thead>\n",
       "  <tbody>\n",
       "    <tr>\n",
       "      <th>0</th>\n",
       "      <td>424339</td>\n",
       "      <td>DEPT OF HEALTH/MENTAL HYGIENE</td>\n",
       "      <td>External</td>\n",
       "      <td>PUBLIC HEALTH NURSE</td>\n",
       "      <td>Health</td>\n",
       "      <td>84252.0</td>\n",
       "      <td>84252.0</td>\n",
       "      <td>04-12-22</td>\n",
       "      <td>84252.0</td>\n",
       "    </tr>\n",
       "    <tr>\n",
       "      <th>1</th>\n",
       "      <td>379094</td>\n",
       "      <td>NYC EMPLOYEES RETIREMENT SYS</td>\n",
       "      <td>External</td>\n",
       "      <td>CERT IT DEVELOPER (APP)</td>\n",
       "      <td>Technology, Data &amp; Innovation</td>\n",
       "      <td>82884.0</td>\n",
       "      <td>116391.0</td>\n",
       "      <td>04-12-22</td>\n",
       "      <td>99637.5</td>\n",
       "    </tr>\n",
       "    <tr>\n",
       "      <th>2</th>\n",
       "      <td>520417</td>\n",
       "      <td>NYC HOUSING AUTHORITY</td>\n",
       "      <td>External</td>\n",
       "      <td>EXECUTIVE AGENCY COUNSEL</td>\n",
       "      <td>Legal Affairs</td>\n",
       "      <td>105000.0</td>\n",
       "      <td>125000.0</td>\n",
       "      <td>04-12-22</td>\n",
       "      <td>115000.0</td>\n",
       "    </tr>\n",
       "    <tr>\n",
       "      <th>3</th>\n",
       "      <td>233549</td>\n",
       "      <td>NYC EMPLOYEES RETIREMENT SYS</td>\n",
       "      <td>External</td>\n",
       "      <td>CERTIFIED IT ADMINISTRATOR (LA</td>\n",
       "      <td>Information Technology &amp; Telecommunications</td>\n",
       "      <td>87203.0</td>\n",
       "      <td>131623.0</td>\n",
       "      <td>04-12-22</td>\n",
       "      <td>109413.0</td>\n",
       "    </tr>\n",
       "    <tr>\n",
       "      <th>4</th>\n",
       "      <td>510256</td>\n",
       "      <td>HUMAN RIGHTS COMMISSION</td>\n",
       "      <td>External</td>\n",
       "      <td>ASSOCIATE HUMAN RIGHTS SPECIAL</td>\n",
       "      <td>Constituent Services &amp; Community Programs</td>\n",
       "      <td>58449.0</td>\n",
       "      <td>67216.0</td>\n",
       "      <td>04-12-22</td>\n",
       "      <td>62832.5</td>\n",
       "    </tr>\n",
       "    <tr>\n",
       "      <th>...</th>\n",
       "      <td>...</td>\n",
       "      <td>...</td>\n",
       "      <td>...</td>\n",
       "      <td>...</td>\n",
       "      <td>...</td>\n",
       "      <td>...</td>\n",
       "      <td>...</td>\n",
       "      <td>...</td>\n",
       "      <td>...</td>\n",
       "    </tr>\n",
       "    <tr>\n",
       "      <th>3768</th>\n",
       "      <td>457839</td>\n",
       "      <td>NYC EMPLOYEES RETIREMENT SYS</td>\n",
       "      <td>Internal</td>\n",
       "      <td>CERTIFIED IT ADMINISTRATOR (LA</td>\n",
       "      <td>Technology, Data &amp; Innovation</td>\n",
       "      <td>85371.0</td>\n",
       "      <td>119883.0</td>\n",
       "      <td>04-12-22</td>\n",
       "      <td>102627.0</td>\n",
       "    </tr>\n",
       "    <tr>\n",
       "      <th>3769</th>\n",
       "      <td>527141</td>\n",
       "      <td>HOUSING PRESERVATION &amp; DVLPMNT</td>\n",
       "      <td>Internal</td>\n",
       "      <td>ASSOCIATE HOUSING DEVELOPMENT</td>\n",
       "      <td>Engineering, Architecture, &amp; Planning</td>\n",
       "      <td>74650.0</td>\n",
       "      <td>85847.0</td>\n",
       "      <td>04-12-22</td>\n",
       "      <td>80248.5</td>\n",
       "    </tr>\n",
       "    <tr>\n",
       "      <th>3770</th>\n",
       "      <td>509443</td>\n",
       "      <td>FINANCIAL INFO SVCS AGENCY</td>\n",
       "      <td>Internal</td>\n",
       "      <td>SENIOR IT ARCHITECT</td>\n",
       "      <td>Technology, Data &amp; Innovation</td>\n",
       "      <td>100000.0</td>\n",
       "      <td>115000.0</td>\n",
       "      <td>04-12-22</td>\n",
       "      <td>107500.0</td>\n",
       "    </tr>\n",
       "    <tr>\n",
       "      <th>3771</th>\n",
       "      <td>352367</td>\n",
       "      <td>DEPT OF HEALTH/MENTAL HYGIENE</td>\n",
       "      <td>Internal</td>\n",
       "      <td>ECONOMIST</td>\n",
       "      <td>Finance, Accounting, &amp; Procurement</td>\n",
       "      <td>42288.0</td>\n",
       "      <td>59400.0</td>\n",
       "      <td>04-12-22</td>\n",
       "      <td>50844.0</td>\n",
       "    </tr>\n",
       "    <tr>\n",
       "      <th>3772</th>\n",
       "      <td>478739</td>\n",
       "      <td>HUMAN RIGHTS COMMISSION</td>\n",
       "      <td>External</td>\n",
       "      <td>AGENCY ATTORNEY INTERNE</td>\n",
       "      <td>Legal Affairs</td>\n",
       "      <td>62397.0</td>\n",
       "      <td>71757.0</td>\n",
       "      <td>04-12-22</td>\n",
       "      <td>67077.0</td>\n",
       "    </tr>\n",
       "  </tbody>\n",
       "</table>\n",
       "<p>3773 rows × 9 columns</p>\n",
       "</div>"
      ],
      "text/plain": [
       "      Job ID                          Agency Posting Type  \\\n",
       "0     424339   DEPT OF HEALTH/MENTAL HYGIENE     External   \n",
       "1     379094    NYC EMPLOYEES RETIREMENT SYS     External   \n",
       "2     520417           NYC HOUSING AUTHORITY     External   \n",
       "3     233549    NYC EMPLOYEES RETIREMENT SYS     External   \n",
       "4     510256         HUMAN RIGHTS COMMISSION     External   \n",
       "...      ...                             ...          ...   \n",
       "3768  457839    NYC EMPLOYEES RETIREMENT SYS     Internal   \n",
       "3769  527141  HOUSING PRESERVATION & DVLPMNT     Internal   \n",
       "3770  509443      FINANCIAL INFO SVCS AGENCY     Internal   \n",
       "3771  352367   DEPT OF HEALTH/MENTAL HYGIENE     Internal   \n",
       "3772  478739         HUMAN RIGHTS COMMISSION     External   \n",
       "\n",
       "                 Civil Service Title  \\\n",
       "0                PUBLIC HEALTH NURSE   \n",
       "1            CERT IT DEVELOPER (APP)   \n",
       "2           EXECUTIVE AGENCY COUNSEL   \n",
       "3     CERTIFIED IT ADMINISTRATOR (LA   \n",
       "4     ASSOCIATE HUMAN RIGHTS SPECIAL   \n",
       "...                              ...   \n",
       "3768  CERTIFIED IT ADMINISTRATOR (LA   \n",
       "3769   ASSOCIATE HOUSING DEVELOPMENT   \n",
       "3770             SENIOR IT ARCHITECT   \n",
       "3771                       ECONOMIST   \n",
       "3772         AGENCY ATTORNEY INTERNE   \n",
       "\n",
       "                                     Job Category  Salary Range From  \\\n",
       "0                                          Health            84252.0   \n",
       "1                   Technology, Data & Innovation            82884.0   \n",
       "2                                   Legal Affairs           105000.0   \n",
       "3     Information Technology & Telecommunications            87203.0   \n",
       "4       Constituent Services & Community Programs            58449.0   \n",
       "...                                           ...                ...   \n",
       "3768                Technology, Data & Innovation            85371.0   \n",
       "3769        Engineering, Architecture, & Planning            74650.0   \n",
       "3770                Technology, Data & Innovation           100000.0   \n",
       "3771           Finance, Accounting, & Procurement            42288.0   \n",
       "3772                                Legal Affairs            62397.0   \n",
       "\n",
       "      Salary Range To Process Date  Salary Avg.  \n",
       "0             84252.0     04-12-22      84252.0  \n",
       "1            116391.0     04-12-22      99637.5  \n",
       "2            125000.0     04-12-22     115000.0  \n",
       "3            131623.0     04-12-22     109413.0  \n",
       "4             67216.0     04-12-22      62832.5  \n",
       "...               ...          ...          ...  \n",
       "3768         119883.0     04-12-22     102627.0  \n",
       "3769          85847.0     04-12-22      80248.5  \n",
       "3770         115000.0     04-12-22     107500.0  \n",
       "3771          59400.0     04-12-22      50844.0  \n",
       "3772          71757.0     04-12-22      67077.0  \n",
       "\n",
       "[3773 rows x 9 columns]"
      ]
     },
     "execution_count": 12,
     "metadata": {},
     "output_type": "execute_result"
    }
   ],
   "source": [
    "# Test 2.2: adding output in original df\n",
    "data['Salary Avg.'] = data[['Salary Range From', 'Salary Range To']].apply(np.mean, axis=1)\n",
    "data"
   ]
  },
  {
   "cell_type": "markdown",
   "id": "432b2d44",
   "metadata": {},
   "source": [
    "### 3.0 Customized Fuctions"
   ]
  },
  {
   "cell_type": "markdown",
   "id": "57e9d273",
   "metadata": {},
   "source": [
    "- Case 3.1: Wish to have capitalized formation in civil service title (only first letter will be capital, other are lower)\n"
   ]
  },
  {
   "cell_type": "code",
   "execution_count": 13,
   "id": "b4cfaaa0",
   "metadata": {},
   "outputs": [
    {
     "data": {
      "text/plain": [
       "0                  Public health nurse\n",
       "1              Cert it developer (app)\n",
       "2             Executive agency counsel\n",
       "3       Certified it administrator (la\n",
       "4       Associate human rights special\n",
       "                     ...              \n",
       "3768    Certified it administrator (la\n",
       "3769     Associate housing development\n",
       "3770               Senior it architect\n",
       "3771                         Economist\n",
       "3772           Agency attorney interne\n",
       "Name: Civil Service Title, Length: 3773, dtype: object"
      ]
     },
     "execution_count": 13,
     "metadata": {},
     "output_type": "execute_result"
    }
   ],
   "source": [
    "def capitalize_position(title):\n",
    "    title_lower = title.lower()\n",
    "    title_final = title_lower.capitalize()\n",
    "    return title_final\n",
    "data['Civil Service Title'].apply(capitalize_position)"
   ]
  },
  {
   "cell_type": "code",
   "execution_count": 14,
   "id": "366d61e5",
   "metadata": {},
   "outputs": [
    {
     "data": {
      "text/html": [
       "<div>\n",
       "<style scoped>\n",
       "    .dataframe tbody tr th:only-of-type {\n",
       "        vertical-align: middle;\n",
       "    }\n",
       "\n",
       "    .dataframe tbody tr th {\n",
       "        vertical-align: top;\n",
       "    }\n",
       "\n",
       "    .dataframe thead th {\n",
       "        text-align: right;\n",
       "    }\n",
       "</style>\n",
       "<table border=\"1\" class=\"dataframe\">\n",
       "  <thead>\n",
       "    <tr style=\"text-align: right;\">\n",
       "      <th></th>\n",
       "      <th>Job ID</th>\n",
       "      <th>Agency</th>\n",
       "      <th>Posting Type</th>\n",
       "      <th>Civil Service Title</th>\n",
       "      <th>Job Category</th>\n",
       "      <th>Salary Range From</th>\n",
       "      <th>Salary Range To</th>\n",
       "      <th>Process Date</th>\n",
       "      <th>Salary Avg.</th>\n",
       "    </tr>\n",
       "  </thead>\n",
       "  <tbody>\n",
       "    <tr>\n",
       "      <th>0</th>\n",
       "      <td>424339</td>\n",
       "      <td>DEPT OF HEALTH/MENTAL HYGIENE</td>\n",
       "      <td>External</td>\n",
       "      <td>PUBLIC HEALTH NURSE</td>\n",
       "      <td>Health</td>\n",
       "      <td>84252.0</td>\n",
       "      <td>84252.0</td>\n",
       "      <td>04-12-22</td>\n",
       "      <td>84252.0</td>\n",
       "    </tr>\n",
       "    <tr>\n",
       "      <th>1</th>\n",
       "      <td>379094</td>\n",
       "      <td>NYC EMPLOYEES RETIREMENT SYS</td>\n",
       "      <td>External</td>\n",
       "      <td>CERT IT DEVELOPER (APP)</td>\n",
       "      <td>Technology, Data &amp; Innovation</td>\n",
       "      <td>82884.0</td>\n",
       "      <td>116391.0</td>\n",
       "      <td>04-12-22</td>\n",
       "      <td>99637.5</td>\n",
       "    </tr>\n",
       "    <tr>\n",
       "      <th>2</th>\n",
       "      <td>520417</td>\n",
       "      <td>NYC HOUSING AUTHORITY</td>\n",
       "      <td>External</td>\n",
       "      <td>EXECUTIVE AGENCY COUNSEL</td>\n",
       "      <td>Legal Affairs</td>\n",
       "      <td>105000.0</td>\n",
       "      <td>125000.0</td>\n",
       "      <td>04-12-22</td>\n",
       "      <td>115000.0</td>\n",
       "    </tr>\n",
       "    <tr>\n",
       "      <th>3</th>\n",
       "      <td>233549</td>\n",
       "      <td>NYC EMPLOYEES RETIREMENT SYS</td>\n",
       "      <td>External</td>\n",
       "      <td>CERTIFIED IT ADMINISTRATOR (LA</td>\n",
       "      <td>Information Technology &amp; Telecommunications</td>\n",
       "      <td>87203.0</td>\n",
       "      <td>131623.0</td>\n",
       "      <td>04-12-22</td>\n",
       "      <td>109413.0</td>\n",
       "    </tr>\n",
       "    <tr>\n",
       "      <th>4</th>\n",
       "      <td>510256</td>\n",
       "      <td>HUMAN RIGHTS COMMISSION</td>\n",
       "      <td>External</td>\n",
       "      <td>ASSOCIATE HUMAN RIGHTS SPECIAL</td>\n",
       "      <td>Constituent Services &amp; Community Programs</td>\n",
       "      <td>58449.0</td>\n",
       "      <td>67216.0</td>\n",
       "      <td>04-12-22</td>\n",
       "      <td>62832.5</td>\n",
       "    </tr>\n",
       "  </tbody>\n",
       "</table>\n",
       "</div>"
      ],
      "text/plain": [
       "   Job ID                         Agency Posting Type  \\\n",
       "0  424339  DEPT OF HEALTH/MENTAL HYGIENE     External   \n",
       "1  379094   NYC EMPLOYEES RETIREMENT SYS     External   \n",
       "2  520417          NYC HOUSING AUTHORITY     External   \n",
       "3  233549   NYC EMPLOYEES RETIREMENT SYS     External   \n",
       "4  510256        HUMAN RIGHTS COMMISSION     External   \n",
       "\n",
       "              Civil Service Title  \\\n",
       "0             PUBLIC HEALTH NURSE   \n",
       "1         CERT IT DEVELOPER (APP)   \n",
       "2        EXECUTIVE AGENCY COUNSEL   \n",
       "3  CERTIFIED IT ADMINISTRATOR (LA   \n",
       "4  ASSOCIATE HUMAN RIGHTS SPECIAL   \n",
       "\n",
       "                                  Job Category  Salary Range From  \\\n",
       "0                                       Health            84252.0   \n",
       "1                Technology, Data & Innovation            82884.0   \n",
       "2                                Legal Affairs           105000.0   \n",
       "3  Information Technology & Telecommunications            87203.0   \n",
       "4    Constituent Services & Community Programs            58449.0   \n",
       "\n",
       "   Salary Range To Process Date  Salary Avg.  \n",
       "0          84252.0     04-12-22      84252.0  \n",
       "1         116391.0     04-12-22      99637.5  \n",
       "2         125000.0     04-12-22     115000.0  \n",
       "3         131623.0     04-12-22     109413.0  \n",
       "4          67216.0     04-12-22      62832.5  "
      ]
     },
     "execution_count": 14,
     "metadata": {},
     "output_type": "execute_result"
    }
   ],
   "source": [
    "# look at the df again, nothing changed, so need to store and see again\n",
    "data.head()"
   ]
  },
  {
   "cell_type": "code",
   "execution_count": 15,
   "id": "60d822c0",
   "metadata": {},
   "outputs": [],
   "source": [
    "def capitalize_position(title):\n",
    "    title_lower = title.lower()\n",
    "    title_final = title_lower.capitalize()\n",
    "    return title_final\n",
    "data['Civil Service Title'] = data['Civil Service Title'].apply(capitalize_position) # see the update"
   ]
  },
  {
   "cell_type": "code",
   "execution_count": 16,
   "id": "395f8473",
   "metadata": {},
   "outputs": [
    {
     "data": {
      "text/html": [
       "<div>\n",
       "<style scoped>\n",
       "    .dataframe tbody tr th:only-of-type {\n",
       "        vertical-align: middle;\n",
       "    }\n",
       "\n",
       "    .dataframe tbody tr th {\n",
       "        vertical-align: top;\n",
       "    }\n",
       "\n",
       "    .dataframe thead th {\n",
       "        text-align: right;\n",
       "    }\n",
       "</style>\n",
       "<table border=\"1\" class=\"dataframe\">\n",
       "  <thead>\n",
       "    <tr style=\"text-align: right;\">\n",
       "      <th></th>\n",
       "      <th>Job ID</th>\n",
       "      <th>Agency</th>\n",
       "      <th>Posting Type</th>\n",
       "      <th>Civil Service Title</th>\n",
       "      <th>Job Category</th>\n",
       "      <th>Salary Range From</th>\n",
       "      <th>Salary Range To</th>\n",
       "      <th>Process Date</th>\n",
       "      <th>Salary Avg.</th>\n",
       "    </tr>\n",
       "  </thead>\n",
       "  <tbody>\n",
       "    <tr>\n",
       "      <th>0</th>\n",
       "      <td>424339</td>\n",
       "      <td>DEPT OF HEALTH/MENTAL HYGIENE</td>\n",
       "      <td>External</td>\n",
       "      <td>Public health nurse</td>\n",
       "      <td>Health</td>\n",
       "      <td>84252.0</td>\n",
       "      <td>84252.0</td>\n",
       "      <td>04-12-22</td>\n",
       "      <td>84252.0</td>\n",
       "    </tr>\n",
       "    <tr>\n",
       "      <th>1</th>\n",
       "      <td>379094</td>\n",
       "      <td>NYC EMPLOYEES RETIREMENT SYS</td>\n",
       "      <td>External</td>\n",
       "      <td>Cert it developer (app)</td>\n",
       "      <td>Technology, Data &amp; Innovation</td>\n",
       "      <td>82884.0</td>\n",
       "      <td>116391.0</td>\n",
       "      <td>04-12-22</td>\n",
       "      <td>99637.5</td>\n",
       "    </tr>\n",
       "    <tr>\n",
       "      <th>2</th>\n",
       "      <td>520417</td>\n",
       "      <td>NYC HOUSING AUTHORITY</td>\n",
       "      <td>External</td>\n",
       "      <td>Executive agency counsel</td>\n",
       "      <td>Legal Affairs</td>\n",
       "      <td>105000.0</td>\n",
       "      <td>125000.0</td>\n",
       "      <td>04-12-22</td>\n",
       "      <td>115000.0</td>\n",
       "    </tr>\n",
       "    <tr>\n",
       "      <th>3</th>\n",
       "      <td>233549</td>\n",
       "      <td>NYC EMPLOYEES RETIREMENT SYS</td>\n",
       "      <td>External</td>\n",
       "      <td>Certified it administrator (la</td>\n",
       "      <td>Information Technology &amp; Telecommunications</td>\n",
       "      <td>87203.0</td>\n",
       "      <td>131623.0</td>\n",
       "      <td>04-12-22</td>\n",
       "      <td>109413.0</td>\n",
       "    </tr>\n",
       "    <tr>\n",
       "      <th>4</th>\n",
       "      <td>510256</td>\n",
       "      <td>HUMAN RIGHTS COMMISSION</td>\n",
       "      <td>External</td>\n",
       "      <td>Associate human rights special</td>\n",
       "      <td>Constituent Services &amp; Community Programs</td>\n",
       "      <td>58449.0</td>\n",
       "      <td>67216.0</td>\n",
       "      <td>04-12-22</td>\n",
       "      <td>62832.5</td>\n",
       "    </tr>\n",
       "  </tbody>\n",
       "</table>\n",
       "</div>"
      ],
      "text/plain": [
       "   Job ID                         Agency Posting Type  \\\n",
       "0  424339  DEPT OF HEALTH/MENTAL HYGIENE     External   \n",
       "1  379094   NYC EMPLOYEES RETIREMENT SYS     External   \n",
       "2  520417          NYC HOUSING AUTHORITY     External   \n",
       "3  233549   NYC EMPLOYEES RETIREMENT SYS     External   \n",
       "4  510256        HUMAN RIGHTS COMMISSION     External   \n",
       "\n",
       "              Civil Service Title  \\\n",
       "0             Public health nurse   \n",
       "1         Cert it developer (app)   \n",
       "2        Executive agency counsel   \n",
       "3  Certified it administrator (la   \n",
       "4  Associate human rights special   \n",
       "\n",
       "                                  Job Category  Salary Range From  \\\n",
       "0                                       Health            84252.0   \n",
       "1                Technology, Data & Innovation            82884.0   \n",
       "2                                Legal Affairs           105000.0   \n",
       "3  Information Technology & Telecommunications            87203.0   \n",
       "4    Constituent Services & Community Programs            58449.0   \n",
       "\n",
       "   Salary Range To Process Date  Salary Avg.  \n",
       "0          84252.0     04-12-22      84252.0  \n",
       "1         116391.0     04-12-22      99637.5  \n",
       "2         125000.0     04-12-22     115000.0  \n",
       "3         131623.0     04-12-22     109413.0  \n",
       "4          67216.0     04-12-22      62832.5  "
      ]
     },
     "execution_count": 16,
     "metadata": {},
     "output_type": "execute_result"
    }
   ],
   "source": [
    "data.head()"
   ]
  },
  {
   "cell_type": "markdown",
   "id": "a63ffceb",
   "metadata": {},
   "source": [
    "- Alternate by Lambda Function"
   ]
  },
  {
   "cell_type": "code",
   "execution_count": 17,
   "id": "e8afb008",
   "metadata": {},
   "outputs": [
    {
     "data": {
      "text/plain": [
       "0        Dept of health/mental hygiene\n",
       "1         Nyc employees retirement sys\n",
       "2                Nyc housing authority\n",
       "3         Nyc employees retirement sys\n",
       "4              Human rights commission\n",
       "                     ...              \n",
       "3768      Nyc employees retirement sys\n",
       "3769    Housing preservation & dvlpmnt\n",
       "3770        Financial info svcs agency\n",
       "3771     Dept of health/mental hygiene\n",
       "3772           Human rights commission\n",
       "Name: Agency, Length: 3773, dtype: object"
      ]
     },
     "execution_count": 17,
     "metadata": {},
     "output_type": "execute_result"
    }
   ],
   "source": [
    "data['Agency'].apply(lambda x: x.lower().capitalize()) # x is single entry for a column, for example it alternate of title passed in fun used above inside ()"
   ]
  },
  {
   "cell_type": "markdown",
   "id": "71056e2e",
   "metadata": {},
   "source": [
    "###  4.0 Wish to make a list out of every row, Job ID to job cate, wish make all in a list"
   ]
  },
  {
   "cell_type": "code",
   "execution_count": 18,
   "id": "6ed83942",
   "metadata": {},
   "outputs": [
    {
     "data": {
      "text/plain": [
       "0       [424339, DEPT OF HEALTH/MENTAL HYGIENE, Extern...\n",
       "1       [379094, NYC EMPLOYEES RETIREMENT SYS, Externa...\n",
       "2       [520417, NYC HOUSING AUTHORITY, External, Exec...\n",
       "3       [233549, NYC EMPLOYEES RETIREMENT SYS, Externa...\n",
       "4       [510256, HUMAN RIGHTS COMMISSION, External, As...\n",
       "                              ...                        \n",
       "3768    [457839, NYC EMPLOYEES RETIREMENT SYS, Interna...\n",
       "3769    [527141, HOUSING PRESERVATION & DVLPMNT, Inter...\n",
       "3770    [509443, FINANCIAL INFO SVCS AGENCY, Internal,...\n",
       "3771    [352367, DEPT OF HEALTH/MENTAL HYGIENE, Intern...\n",
       "3772    [478739, HUMAN RIGHTS COMMISSION, External, Ag...\n",
       "Length: 3773, dtype: object"
      ]
     },
     "execution_count": 18,
     "metadata": {},
     "output_type": "execute_result"
    }
   ],
   "source": [
    "# test 4.1\n",
    "data.apply(lambda x: x.tolist(), axis=1) # all columns merged in a single list / row"
   ]
  },
  {
   "cell_type": "code",
   "execution_count": 19,
   "id": "de7d5e8f",
   "metadata": {},
   "outputs": [
    {
     "data": {
      "text/plain": [
       "pandas.core.series.Series"
      ]
     },
     "execution_count": 19,
     "metadata": {},
     "output_type": "execute_result"
    }
   ],
   "source": [
    "# test 4.1: see the type, this is a series object\n",
    "type(data.apply(lambda x: x.tolist(), axis=1))"
   ]
  },
  {
   "cell_type": "code",
   "execution_count": 20,
   "id": "f9869e79",
   "metadata": {},
   "outputs": [
    {
     "data": {
      "text/plain": [
       "list"
      ]
     },
     "execution_count": 20,
     "metadata": {},
     "output_type": "execute_result"
    }
   ],
   "source": [
    "# test 4.2: This is a series object, but full of list\n",
    "type(data.apply(lambda x: x.tolist(), axis=1)[0])"
   ]
  },
  {
   "cell_type": "code",
   "execution_count": 21,
   "id": "b6a80626",
   "metadata": {},
   "outputs": [
    {
     "data": {
      "text/html": [
       "<div>\n",
       "<style scoped>\n",
       "    .dataframe tbody tr th:only-of-type {\n",
       "        vertical-align: middle;\n",
       "    }\n",
       "\n",
       "    .dataframe tbody tr th {\n",
       "        vertical-align: top;\n",
       "    }\n",
       "\n",
       "    .dataframe thead th {\n",
       "        text-align: right;\n",
       "    }\n",
       "</style>\n",
       "<table border=\"1\" class=\"dataframe\">\n",
       "  <thead>\n",
       "    <tr style=\"text-align: right;\">\n",
       "      <th></th>\n",
       "      <th>0</th>\n",
       "    </tr>\n",
       "  </thead>\n",
       "  <tbody>\n",
       "    <tr>\n",
       "      <th>0</th>\n",
       "      <td>[424339, DEPT OF HEALTH/MENTAL HYGIENE, Extern...</td>\n",
       "    </tr>\n",
       "    <tr>\n",
       "      <th>1</th>\n",
       "      <td>[379094, NYC EMPLOYEES RETIREMENT SYS, Externa...</td>\n",
       "    </tr>\n",
       "    <tr>\n",
       "      <th>2</th>\n",
       "      <td>[520417, NYC HOUSING AUTHORITY, External, Exec...</td>\n",
       "    </tr>\n",
       "    <tr>\n",
       "      <th>3</th>\n",
       "      <td>[233549, NYC EMPLOYEES RETIREMENT SYS, Externa...</td>\n",
       "    </tr>\n",
       "    <tr>\n",
       "      <th>4</th>\n",
       "      <td>[510256, HUMAN RIGHTS COMMISSION, External, As...</td>\n",
       "    </tr>\n",
       "    <tr>\n",
       "      <th>...</th>\n",
       "      <td>...</td>\n",
       "    </tr>\n",
       "    <tr>\n",
       "      <th>3768</th>\n",
       "      <td>[457839, NYC EMPLOYEES RETIREMENT SYS, Interna...</td>\n",
       "    </tr>\n",
       "    <tr>\n",
       "      <th>3769</th>\n",
       "      <td>[527141, HOUSING PRESERVATION &amp; DVLPMNT, Inter...</td>\n",
       "    </tr>\n",
       "    <tr>\n",
       "      <th>3770</th>\n",
       "      <td>[509443, FINANCIAL INFO SVCS AGENCY, Internal,...</td>\n",
       "    </tr>\n",
       "    <tr>\n",
       "      <th>3771</th>\n",
       "      <td>[352367, DEPT OF HEALTH/MENTAL HYGIENE, Intern...</td>\n",
       "    </tr>\n",
       "    <tr>\n",
       "      <th>3772</th>\n",
       "      <td>[478739, HUMAN RIGHTS COMMISSION, External, Ag...</td>\n",
       "    </tr>\n",
       "  </tbody>\n",
       "</table>\n",
       "<p>3773 rows × 1 columns</p>\n",
       "</div>"
      ],
      "text/plain": [
       "                                                      0\n",
       "0     [424339, DEPT OF HEALTH/MENTAL HYGIENE, Extern...\n",
       "1     [379094, NYC EMPLOYEES RETIREMENT SYS, Externa...\n",
       "2     [520417, NYC HOUSING AUTHORITY, External, Exec...\n",
       "3     [233549, NYC EMPLOYEES RETIREMENT SYS, Externa...\n",
       "4     [510256, HUMAN RIGHTS COMMISSION, External, As...\n",
       "...                                                 ...\n",
       "3768  [457839, NYC EMPLOYEES RETIREMENT SYS, Interna...\n",
       "3769  [527141, HOUSING PRESERVATION & DVLPMNT, Inter...\n",
       "3770  [509443, FINANCIAL INFO SVCS AGENCY, Internal,...\n",
       "3771  [352367, DEPT OF HEALTH/MENTAL HYGIENE, Intern...\n",
       "3772  [478739, HUMAN RIGHTS COMMISSION, External, Ag...\n",
       "\n",
       "[3773 rows x 1 columns]"
      ]
     },
     "execution_count": 21,
     "metadata": {},
     "output_type": "execute_result"
    }
   ],
   "source": [
    "# 4.3, DataFrame\n",
    "pd.DataFrame(data.apply(lambda x: x.tolist(), axis=1))"
   ]
  },
  {
   "cell_type": "markdown",
   "id": "f1c8396e",
   "metadata": {},
   "source": [
    "#### 4.4 For example from this series want to extract data by columns, by a func 'result_type'"
   ]
  },
  {
   "cell_type": "code",
   "execution_count": 22,
   "id": "829aac73",
   "metadata": {},
   "outputs": [
    {
     "data": {
      "text/html": [
       "<div>\n",
       "<style scoped>\n",
       "    .dataframe tbody tr th:only-of-type {\n",
       "        vertical-align: middle;\n",
       "    }\n",
       "\n",
       "    .dataframe tbody tr th {\n",
       "        vertical-align: top;\n",
       "    }\n",
       "\n",
       "    .dataframe thead th {\n",
       "        text-align: right;\n",
       "    }\n",
       "</style>\n",
       "<table border=\"1\" class=\"dataframe\">\n",
       "  <thead>\n",
       "    <tr style=\"text-align: right;\">\n",
       "      <th></th>\n",
       "      <th>0</th>\n",
       "      <th>1</th>\n",
       "      <th>2</th>\n",
       "      <th>3</th>\n",
       "      <th>4</th>\n",
       "      <th>5</th>\n",
       "      <th>6</th>\n",
       "      <th>7</th>\n",
       "      <th>8</th>\n",
       "    </tr>\n",
       "  </thead>\n",
       "  <tbody>\n",
       "    <tr>\n",
       "      <th>0</th>\n",
       "      <td>424339</td>\n",
       "      <td>DEPT OF HEALTH/MENTAL HYGIENE</td>\n",
       "      <td>External</td>\n",
       "      <td>Public health nurse</td>\n",
       "      <td>Health</td>\n",
       "      <td>84252.0</td>\n",
       "      <td>84252.0</td>\n",
       "      <td>04-12-22</td>\n",
       "      <td>84252.0</td>\n",
       "    </tr>\n",
       "    <tr>\n",
       "      <th>1</th>\n",
       "      <td>379094</td>\n",
       "      <td>NYC EMPLOYEES RETIREMENT SYS</td>\n",
       "      <td>External</td>\n",
       "      <td>Cert it developer (app)</td>\n",
       "      <td>Technology, Data &amp; Innovation</td>\n",
       "      <td>82884.0</td>\n",
       "      <td>116391.0</td>\n",
       "      <td>04-12-22</td>\n",
       "      <td>99637.5</td>\n",
       "    </tr>\n",
       "    <tr>\n",
       "      <th>2</th>\n",
       "      <td>520417</td>\n",
       "      <td>NYC HOUSING AUTHORITY</td>\n",
       "      <td>External</td>\n",
       "      <td>Executive agency counsel</td>\n",
       "      <td>Legal Affairs</td>\n",
       "      <td>105000.0</td>\n",
       "      <td>125000.0</td>\n",
       "      <td>04-12-22</td>\n",
       "      <td>115000.0</td>\n",
       "    </tr>\n",
       "    <tr>\n",
       "      <th>3</th>\n",
       "      <td>233549</td>\n",
       "      <td>NYC EMPLOYEES RETIREMENT SYS</td>\n",
       "      <td>External</td>\n",
       "      <td>Certified it administrator (la</td>\n",
       "      <td>Information Technology &amp; Telecommunications</td>\n",
       "      <td>87203.0</td>\n",
       "      <td>131623.0</td>\n",
       "      <td>04-12-22</td>\n",
       "      <td>109413.0</td>\n",
       "    </tr>\n",
       "    <tr>\n",
       "      <th>4</th>\n",
       "      <td>510256</td>\n",
       "      <td>HUMAN RIGHTS COMMISSION</td>\n",
       "      <td>External</td>\n",
       "      <td>Associate human rights special</td>\n",
       "      <td>Constituent Services &amp; Community Programs</td>\n",
       "      <td>58449.0</td>\n",
       "      <td>67216.0</td>\n",
       "      <td>04-12-22</td>\n",
       "      <td>62832.5</td>\n",
       "    </tr>\n",
       "    <tr>\n",
       "      <th>...</th>\n",
       "      <td>...</td>\n",
       "      <td>...</td>\n",
       "      <td>...</td>\n",
       "      <td>...</td>\n",
       "      <td>...</td>\n",
       "      <td>...</td>\n",
       "      <td>...</td>\n",
       "      <td>...</td>\n",
       "      <td>...</td>\n",
       "    </tr>\n",
       "    <tr>\n",
       "      <th>3768</th>\n",
       "      <td>457839</td>\n",
       "      <td>NYC EMPLOYEES RETIREMENT SYS</td>\n",
       "      <td>Internal</td>\n",
       "      <td>Certified it administrator (la</td>\n",
       "      <td>Technology, Data &amp; Innovation</td>\n",
       "      <td>85371.0</td>\n",
       "      <td>119883.0</td>\n",
       "      <td>04-12-22</td>\n",
       "      <td>102627.0</td>\n",
       "    </tr>\n",
       "    <tr>\n",
       "      <th>3769</th>\n",
       "      <td>527141</td>\n",
       "      <td>HOUSING PRESERVATION &amp; DVLPMNT</td>\n",
       "      <td>Internal</td>\n",
       "      <td>Associate housing development</td>\n",
       "      <td>Engineering, Architecture, &amp; Planning</td>\n",
       "      <td>74650.0</td>\n",
       "      <td>85847.0</td>\n",
       "      <td>04-12-22</td>\n",
       "      <td>80248.5</td>\n",
       "    </tr>\n",
       "    <tr>\n",
       "      <th>3770</th>\n",
       "      <td>509443</td>\n",
       "      <td>FINANCIAL INFO SVCS AGENCY</td>\n",
       "      <td>Internal</td>\n",
       "      <td>Senior it architect</td>\n",
       "      <td>Technology, Data &amp; Innovation</td>\n",
       "      <td>100000.0</td>\n",
       "      <td>115000.0</td>\n",
       "      <td>04-12-22</td>\n",
       "      <td>107500.0</td>\n",
       "    </tr>\n",
       "    <tr>\n",
       "      <th>3771</th>\n",
       "      <td>352367</td>\n",
       "      <td>DEPT OF HEALTH/MENTAL HYGIENE</td>\n",
       "      <td>Internal</td>\n",
       "      <td>Economist</td>\n",
       "      <td>Finance, Accounting, &amp; Procurement</td>\n",
       "      <td>42288.0</td>\n",
       "      <td>59400.0</td>\n",
       "      <td>04-12-22</td>\n",
       "      <td>50844.0</td>\n",
       "    </tr>\n",
       "    <tr>\n",
       "      <th>3772</th>\n",
       "      <td>478739</td>\n",
       "      <td>HUMAN RIGHTS COMMISSION</td>\n",
       "      <td>External</td>\n",
       "      <td>Agency attorney interne</td>\n",
       "      <td>Legal Affairs</td>\n",
       "      <td>62397.0</td>\n",
       "      <td>71757.0</td>\n",
       "      <td>04-12-22</td>\n",
       "      <td>67077.0</td>\n",
       "    </tr>\n",
       "  </tbody>\n",
       "</table>\n",
       "<p>3773 rows × 9 columns</p>\n",
       "</div>"
      ],
      "text/plain": [
       "           0                               1         2  \\\n",
       "0     424339   DEPT OF HEALTH/MENTAL HYGIENE  External   \n",
       "1     379094    NYC EMPLOYEES RETIREMENT SYS  External   \n",
       "2     520417           NYC HOUSING AUTHORITY  External   \n",
       "3     233549    NYC EMPLOYEES RETIREMENT SYS  External   \n",
       "4     510256         HUMAN RIGHTS COMMISSION  External   \n",
       "...      ...                             ...       ...   \n",
       "3768  457839    NYC EMPLOYEES RETIREMENT SYS  Internal   \n",
       "3769  527141  HOUSING PRESERVATION & DVLPMNT  Internal   \n",
       "3770  509443      FINANCIAL INFO SVCS AGENCY  Internal   \n",
       "3771  352367   DEPT OF HEALTH/MENTAL HYGIENE  Internal   \n",
       "3772  478739         HUMAN RIGHTS COMMISSION  External   \n",
       "\n",
       "                                   3  \\\n",
       "0                Public health nurse   \n",
       "1            Cert it developer (app)   \n",
       "2           Executive agency counsel   \n",
       "3     Certified it administrator (la   \n",
       "4     Associate human rights special   \n",
       "...                              ...   \n",
       "3768  Certified it administrator (la   \n",
       "3769   Associate housing development   \n",
       "3770             Senior it architect   \n",
       "3771                       Economist   \n",
       "3772         Agency attorney interne   \n",
       "\n",
       "                                                4         5         6  \\\n",
       "0                                          Health   84252.0   84252.0   \n",
       "1                   Technology, Data & Innovation   82884.0  116391.0   \n",
       "2                                   Legal Affairs  105000.0  125000.0   \n",
       "3     Information Technology & Telecommunications   87203.0  131623.0   \n",
       "4       Constituent Services & Community Programs   58449.0   67216.0   \n",
       "...                                           ...       ...       ...   \n",
       "3768                Technology, Data & Innovation   85371.0  119883.0   \n",
       "3769        Engineering, Architecture, & Planning   74650.0   85847.0   \n",
       "3770                Technology, Data & Innovation  100000.0  115000.0   \n",
       "3771           Finance, Accounting, & Procurement   42288.0   59400.0   \n",
       "3772                                Legal Affairs   62397.0   71757.0   \n",
       "\n",
       "             7         8  \n",
       "0     04-12-22   84252.0  \n",
       "1     04-12-22   99637.5  \n",
       "2     04-12-22  115000.0  \n",
       "3     04-12-22  109413.0  \n",
       "4     04-12-22   62832.5  \n",
       "...        ...       ...  \n",
       "3768  04-12-22  102627.0  \n",
       "3769  04-12-22   80248.5  \n",
       "3770  04-12-22  107500.0  \n",
       "3771  04-12-22   50844.0  \n",
       "3772  04-12-22   67077.0  \n",
       "\n",
       "[3773 rows x 9 columns]"
      ]
     },
     "execution_count": 22,
     "metadata": {},
     "output_type": "execute_result"
    }
   ],
   "source": [
    "# 4.4 expand component wise\n",
    "data.apply(lambda x: x.tolist(), axis=1, result_type='expand') "
   ]
  },
  {
   "cell_type": "code",
   "execution_count": 23,
   "id": "70bc9035",
   "metadata": {},
   "outputs": [
    {
     "data": {
      "text/html": [
       "<div>\n",
       "<style scoped>\n",
       "    .dataframe tbody tr th:only-of-type {\n",
       "        vertical-align: middle;\n",
       "    }\n",
       "\n",
       "    .dataframe tbody tr th {\n",
       "        vertical-align: top;\n",
       "    }\n",
       "\n",
       "    .dataframe thead th {\n",
       "        text-align: right;\n",
       "    }\n",
       "</style>\n",
       "<table border=\"1\" class=\"dataframe\">\n",
       "  <thead>\n",
       "    <tr style=\"text-align: right;\">\n",
       "      <th></th>\n",
       "      <th>Job ID</th>\n",
       "      <th>Agency</th>\n",
       "      <th>Posting Type</th>\n",
       "      <th>Civil Service Title</th>\n",
       "      <th>Job Category</th>\n",
       "      <th>Salary Range From</th>\n",
       "      <th>Salary Range To</th>\n",
       "      <th>Process Date</th>\n",
       "      <th>Salary Avg.</th>\n",
       "    </tr>\n",
       "  </thead>\n",
       "  <tbody>\n",
       "    <tr>\n",
       "      <th>0</th>\n",
       "      <td>424339</td>\n",
       "      <td>DEPT OF HEALTH/MENTAL HYGIENE</td>\n",
       "      <td>External</td>\n",
       "      <td>Public health nurse</td>\n",
       "      <td>Health</td>\n",
       "      <td>84252.0</td>\n",
       "      <td>84252.0</td>\n",
       "      <td>04-12-22</td>\n",
       "      <td>84252.0</td>\n",
       "    </tr>\n",
       "    <tr>\n",
       "      <th>1</th>\n",
       "      <td>379094</td>\n",
       "      <td>NYC EMPLOYEES RETIREMENT SYS</td>\n",
       "      <td>External</td>\n",
       "      <td>Cert it developer (app)</td>\n",
       "      <td>Technology, Data &amp; Innovation</td>\n",
       "      <td>82884.0</td>\n",
       "      <td>116391.0</td>\n",
       "      <td>04-12-22</td>\n",
       "      <td>99637.5</td>\n",
       "    </tr>\n",
       "    <tr>\n",
       "      <th>2</th>\n",
       "      <td>520417</td>\n",
       "      <td>NYC HOUSING AUTHORITY</td>\n",
       "      <td>External</td>\n",
       "      <td>Executive agency counsel</td>\n",
       "      <td>Legal Affairs</td>\n",
       "      <td>105000.0</td>\n",
       "      <td>125000.0</td>\n",
       "      <td>04-12-22</td>\n",
       "      <td>115000.0</td>\n",
       "    </tr>\n",
       "    <tr>\n",
       "      <th>3</th>\n",
       "      <td>233549</td>\n",
       "      <td>NYC EMPLOYEES RETIREMENT SYS</td>\n",
       "      <td>External</td>\n",
       "      <td>Certified it administrator (la</td>\n",
       "      <td>Information Technology &amp; Telecommunications</td>\n",
       "      <td>87203.0</td>\n",
       "      <td>131623.0</td>\n",
       "      <td>04-12-22</td>\n",
       "      <td>109413.0</td>\n",
       "    </tr>\n",
       "    <tr>\n",
       "      <th>4</th>\n",
       "      <td>510256</td>\n",
       "      <td>HUMAN RIGHTS COMMISSION</td>\n",
       "      <td>External</td>\n",
       "      <td>Associate human rights special</td>\n",
       "      <td>Constituent Services &amp; Community Programs</td>\n",
       "      <td>58449.0</td>\n",
       "      <td>67216.0</td>\n",
       "      <td>04-12-22</td>\n",
       "      <td>62832.5</td>\n",
       "    </tr>\n",
       "    <tr>\n",
       "      <th>...</th>\n",
       "      <td>...</td>\n",
       "      <td>...</td>\n",
       "      <td>...</td>\n",
       "      <td>...</td>\n",
       "      <td>...</td>\n",
       "      <td>...</td>\n",
       "      <td>...</td>\n",
       "      <td>...</td>\n",
       "      <td>...</td>\n",
       "    </tr>\n",
       "    <tr>\n",
       "      <th>3768</th>\n",
       "      <td>457839</td>\n",
       "      <td>NYC EMPLOYEES RETIREMENT SYS</td>\n",
       "      <td>Internal</td>\n",
       "      <td>Certified it administrator (la</td>\n",
       "      <td>Technology, Data &amp; Innovation</td>\n",
       "      <td>85371.0</td>\n",
       "      <td>119883.0</td>\n",
       "      <td>04-12-22</td>\n",
       "      <td>102627.0</td>\n",
       "    </tr>\n",
       "    <tr>\n",
       "      <th>3769</th>\n",
       "      <td>527141</td>\n",
       "      <td>HOUSING PRESERVATION &amp; DVLPMNT</td>\n",
       "      <td>Internal</td>\n",
       "      <td>Associate housing development</td>\n",
       "      <td>Engineering, Architecture, &amp; Planning</td>\n",
       "      <td>74650.0</td>\n",
       "      <td>85847.0</td>\n",
       "      <td>04-12-22</td>\n",
       "      <td>80248.5</td>\n",
       "    </tr>\n",
       "    <tr>\n",
       "      <th>3770</th>\n",
       "      <td>509443</td>\n",
       "      <td>FINANCIAL INFO SVCS AGENCY</td>\n",
       "      <td>Internal</td>\n",
       "      <td>Senior it architect</td>\n",
       "      <td>Technology, Data &amp; Innovation</td>\n",
       "      <td>100000.0</td>\n",
       "      <td>115000.0</td>\n",
       "      <td>04-12-22</td>\n",
       "      <td>107500.0</td>\n",
       "    </tr>\n",
       "    <tr>\n",
       "      <th>3771</th>\n",
       "      <td>352367</td>\n",
       "      <td>DEPT OF HEALTH/MENTAL HYGIENE</td>\n",
       "      <td>Internal</td>\n",
       "      <td>Economist</td>\n",
       "      <td>Finance, Accounting, &amp; Procurement</td>\n",
       "      <td>42288.0</td>\n",
       "      <td>59400.0</td>\n",
       "      <td>04-12-22</td>\n",
       "      <td>50844.0</td>\n",
       "    </tr>\n",
       "    <tr>\n",
       "      <th>3772</th>\n",
       "      <td>478739</td>\n",
       "      <td>HUMAN RIGHTS COMMISSION</td>\n",
       "      <td>External</td>\n",
       "      <td>Agency attorney interne</td>\n",
       "      <td>Legal Affairs</td>\n",
       "      <td>62397.0</td>\n",
       "      <td>71757.0</td>\n",
       "      <td>04-12-22</td>\n",
       "      <td>67077.0</td>\n",
       "    </tr>\n",
       "  </tbody>\n",
       "</table>\n",
       "<p>3773 rows × 9 columns</p>\n",
       "</div>"
      ],
      "text/plain": [
       "      Job ID                          Agency Posting Type  \\\n",
       "0     424339   DEPT OF HEALTH/MENTAL HYGIENE     External   \n",
       "1     379094    NYC EMPLOYEES RETIREMENT SYS     External   \n",
       "2     520417           NYC HOUSING AUTHORITY     External   \n",
       "3     233549    NYC EMPLOYEES RETIREMENT SYS     External   \n",
       "4     510256         HUMAN RIGHTS COMMISSION     External   \n",
       "...      ...                             ...          ...   \n",
       "3768  457839    NYC EMPLOYEES RETIREMENT SYS     Internal   \n",
       "3769  527141  HOUSING PRESERVATION & DVLPMNT     Internal   \n",
       "3770  509443      FINANCIAL INFO SVCS AGENCY     Internal   \n",
       "3771  352367   DEPT OF HEALTH/MENTAL HYGIENE     Internal   \n",
       "3772  478739         HUMAN RIGHTS COMMISSION     External   \n",
       "\n",
       "                 Civil Service Title  \\\n",
       "0                Public health nurse   \n",
       "1            Cert it developer (app)   \n",
       "2           Executive agency counsel   \n",
       "3     Certified it administrator (la   \n",
       "4     Associate human rights special   \n",
       "...                              ...   \n",
       "3768  Certified it administrator (la   \n",
       "3769   Associate housing development   \n",
       "3770             Senior it architect   \n",
       "3771                       Economist   \n",
       "3772         Agency attorney interne   \n",
       "\n",
       "                                     Job Category Salary Range From  \\\n",
       "0                                          Health           84252.0   \n",
       "1                   Technology, Data & Innovation           82884.0   \n",
       "2                                   Legal Affairs          105000.0   \n",
       "3     Information Technology & Telecommunications           87203.0   \n",
       "4       Constituent Services & Community Programs           58449.0   \n",
       "...                                           ...               ...   \n",
       "3768                Technology, Data & Innovation           85371.0   \n",
       "3769        Engineering, Architecture, & Planning           74650.0   \n",
       "3770                Technology, Data & Innovation          100000.0   \n",
       "3771           Finance, Accounting, & Procurement           42288.0   \n",
       "3772                                Legal Affairs           62397.0   \n",
       "\n",
       "     Salary Range To Process Date Salary Avg.  \n",
       "0            84252.0     04-12-22     84252.0  \n",
       "1           116391.0     04-12-22     99637.5  \n",
       "2           125000.0     04-12-22    115000.0  \n",
       "3           131623.0     04-12-22    109413.0  \n",
       "4            67216.0     04-12-22     62832.5  \n",
       "...              ...          ...         ...  \n",
       "3768        119883.0     04-12-22    102627.0  \n",
       "3769         85847.0     04-12-22     80248.5  \n",
       "3770        115000.0     04-12-22    107500.0  \n",
       "3771         59400.0     04-12-22     50844.0  \n",
       "3772         71757.0     04-12-22     67077.0  \n",
       "\n",
       "[3773 rows x 9 columns]"
      ]
     },
     "execution_count": 23,
     "metadata": {},
     "output_type": "execute_result"
    }
   ],
   "source": [
    "# 4.5 Get original column name\n",
    "data.apply(lambda x: x.tolist(), axis=1, result_type='broadcast') "
   ]
  },
  {
   "cell_type": "markdown",
   "id": "573f315a",
   "metadata": {},
   "source": [
    "# 5.0 Pandas Functions: Apply vs. Map vs. Applymap"
   ]
  },
  {
   "cell_type": "markdown",
   "id": "ab3ac065",
   "metadata": {},
   "source": [
    "1. Apply function applies on each entries/elements either row/ column\n",
    "2. Map function besically not so used, because apply function can  do it\n",
    "3. Apply map : basically applied on whole dataframe elements wise"
   ]
  },
  {
   "cell_type": "markdown",
   "id": "97f05cbc",
   "metadata": {},
   "source": [
    "#### Apply function"
   ]
  },
  {
   "cell_type": "code",
   "execution_count": 24,
   "id": "e8c2e584",
   "metadata": {},
   "outputs": [
    {
     "data": {
      "text/plain": [
       "0        Dept of health/mental hygiene\n",
       "1         Nyc employees retirement sys\n",
       "2                Nyc housing authority\n",
       "3         Nyc employees retirement sys\n",
       "4              Human rights commission\n",
       "                     ...              \n",
       "3768      Nyc employees retirement sys\n",
       "3769    Housing preservation & dvlpmnt\n",
       "3770        Financial info svcs agency\n",
       "3771     Dept of health/mental hygiene\n",
       "3772           Human rights commission\n",
       "Name: Agency, Length: 3773, dtype: object"
      ]
     },
     "execution_count": 24,
     "metadata": {},
     "output_type": "execute_result"
    }
   ],
   "source": [
    "def capitalize(title):\n",
    "    return title.lower().capitalize()\n",
    "\n",
    "data['Agency'].apply(capitalize)"
   ]
  },
  {
   "cell_type": "markdown",
   "id": "c590b290",
   "metadata": {},
   "source": [
    "#### Applymap function"
   ]
  },
  {
   "cell_type": "code",
   "execution_count": 25,
   "id": "ca160f81",
   "metadata": {},
   "outputs": [
    {
     "data": {
      "text/html": [
       "<div>\n",
       "<style scoped>\n",
       "    .dataframe tbody tr th:only-of-type {\n",
       "        vertical-align: middle;\n",
       "    }\n",
       "\n",
       "    .dataframe tbody tr th {\n",
       "        vertical-align: top;\n",
       "    }\n",
       "\n",
       "    .dataframe thead th {\n",
       "        text-align: right;\n",
       "    }\n",
       "</style>\n",
       "<table border=\"1\" class=\"dataframe\">\n",
       "  <thead>\n",
       "    <tr style=\"text-align: right;\">\n",
       "      <th></th>\n",
       "      <th>Job ID</th>\n",
       "      <th>Agency</th>\n",
       "      <th>Posting Type</th>\n",
       "      <th>Civil Service Title</th>\n",
       "      <th>Job Category</th>\n",
       "      <th>Salary Range From</th>\n",
       "      <th>Salary Range To</th>\n",
       "      <th>Process Date</th>\n",
       "      <th>Salary Avg.</th>\n",
       "    </tr>\n",
       "  </thead>\n",
       "  <tbody>\n",
       "    <tr>\n",
       "      <th>0</th>\n",
       "      <td>424339_2023</td>\n",
       "      <td>DEPT OF HEALTH/MENTAL HYGIENE_2023</td>\n",
       "      <td>External_2023</td>\n",
       "      <td>Public health nurse_2023</td>\n",
       "      <td>Health_2023</td>\n",
       "      <td>84252.0_2023</td>\n",
       "      <td>84252.0_2023</td>\n",
       "      <td>04-12-22_2023</td>\n",
       "      <td>84252.0_2023</td>\n",
       "    </tr>\n",
       "    <tr>\n",
       "      <th>1</th>\n",
       "      <td>379094_2023</td>\n",
       "      <td>NYC EMPLOYEES RETIREMENT SYS_2023</td>\n",
       "      <td>External_2023</td>\n",
       "      <td>Cert it developer (app)_2023</td>\n",
       "      <td>Technology, Data &amp; Innovation_2023</td>\n",
       "      <td>82884.0_2023</td>\n",
       "      <td>116391.0_2023</td>\n",
       "      <td>04-12-22_2023</td>\n",
       "      <td>99637.5_2023</td>\n",
       "    </tr>\n",
       "    <tr>\n",
       "      <th>2</th>\n",
       "      <td>520417_2023</td>\n",
       "      <td>NYC HOUSING AUTHORITY_2023</td>\n",
       "      <td>External_2023</td>\n",
       "      <td>Executive agency counsel_2023</td>\n",
       "      <td>Legal Affairs_2023</td>\n",
       "      <td>105000.0_2023</td>\n",
       "      <td>125000.0_2023</td>\n",
       "      <td>04-12-22_2023</td>\n",
       "      <td>115000.0_2023</td>\n",
       "    </tr>\n",
       "    <tr>\n",
       "      <th>3</th>\n",
       "      <td>233549_2023</td>\n",
       "      <td>NYC EMPLOYEES RETIREMENT SYS_2023</td>\n",
       "      <td>External_2023</td>\n",
       "      <td>Certified it administrator (la_2023</td>\n",
       "      <td>Information Technology &amp; Telecommunications_2023</td>\n",
       "      <td>87203.0_2023</td>\n",
       "      <td>131623.0_2023</td>\n",
       "      <td>04-12-22_2023</td>\n",
       "      <td>109413.0_2023</td>\n",
       "    </tr>\n",
       "    <tr>\n",
       "      <th>4</th>\n",
       "      <td>510256_2023</td>\n",
       "      <td>HUMAN RIGHTS COMMISSION_2023</td>\n",
       "      <td>External_2023</td>\n",
       "      <td>Associate human rights special_2023</td>\n",
       "      <td>Constituent Services &amp; Community Programs_2023</td>\n",
       "      <td>58449.0_2023</td>\n",
       "      <td>67216.0_2023</td>\n",
       "      <td>04-12-22_2023</td>\n",
       "      <td>62832.5_2023</td>\n",
       "    </tr>\n",
       "    <tr>\n",
       "      <th>...</th>\n",
       "      <td>...</td>\n",
       "      <td>...</td>\n",
       "      <td>...</td>\n",
       "      <td>...</td>\n",
       "      <td>...</td>\n",
       "      <td>...</td>\n",
       "      <td>...</td>\n",
       "      <td>...</td>\n",
       "      <td>...</td>\n",
       "    </tr>\n",
       "    <tr>\n",
       "      <th>3768</th>\n",
       "      <td>457839_2023</td>\n",
       "      <td>NYC EMPLOYEES RETIREMENT SYS_2023</td>\n",
       "      <td>Internal_2023</td>\n",
       "      <td>Certified it administrator (la_2023</td>\n",
       "      <td>Technology, Data &amp; Innovation_2023</td>\n",
       "      <td>85371.0_2023</td>\n",
       "      <td>119883.0_2023</td>\n",
       "      <td>04-12-22_2023</td>\n",
       "      <td>102627.0_2023</td>\n",
       "    </tr>\n",
       "    <tr>\n",
       "      <th>3769</th>\n",
       "      <td>527141_2023</td>\n",
       "      <td>HOUSING PRESERVATION &amp; DVLPMNT_2023</td>\n",
       "      <td>Internal_2023</td>\n",
       "      <td>Associate housing development_2023</td>\n",
       "      <td>Engineering, Architecture, &amp; Planning_2023</td>\n",
       "      <td>74650.0_2023</td>\n",
       "      <td>85847.0_2023</td>\n",
       "      <td>04-12-22_2023</td>\n",
       "      <td>80248.5_2023</td>\n",
       "    </tr>\n",
       "    <tr>\n",
       "      <th>3770</th>\n",
       "      <td>509443_2023</td>\n",
       "      <td>FINANCIAL INFO SVCS AGENCY_2023</td>\n",
       "      <td>Internal_2023</td>\n",
       "      <td>Senior it architect_2023</td>\n",
       "      <td>Technology, Data &amp; Innovation_2023</td>\n",
       "      <td>100000.0_2023</td>\n",
       "      <td>115000.0_2023</td>\n",
       "      <td>04-12-22_2023</td>\n",
       "      <td>107500.0_2023</td>\n",
       "    </tr>\n",
       "    <tr>\n",
       "      <th>3771</th>\n",
       "      <td>352367_2023</td>\n",
       "      <td>DEPT OF HEALTH/MENTAL HYGIENE_2023</td>\n",
       "      <td>Internal_2023</td>\n",
       "      <td>Economist_2023</td>\n",
       "      <td>Finance, Accounting, &amp; Procurement_2023</td>\n",
       "      <td>42288.0_2023</td>\n",
       "      <td>59400.0_2023</td>\n",
       "      <td>04-12-22_2023</td>\n",
       "      <td>50844.0_2023</td>\n",
       "    </tr>\n",
       "    <tr>\n",
       "      <th>3772</th>\n",
       "      <td>478739_2023</td>\n",
       "      <td>HUMAN RIGHTS COMMISSION_2023</td>\n",
       "      <td>External_2023</td>\n",
       "      <td>Agency attorney interne_2023</td>\n",
       "      <td>Legal Affairs_2023</td>\n",
       "      <td>62397.0_2023</td>\n",
       "      <td>71757.0_2023</td>\n",
       "      <td>04-12-22_2023</td>\n",
       "      <td>67077.0_2023</td>\n",
       "    </tr>\n",
       "  </tbody>\n",
       "</table>\n",
       "<p>3773 rows × 9 columns</p>\n",
       "</div>"
      ],
      "text/plain": [
       "           Job ID                               Agency   Posting Type  \\\n",
       "0     424339_2023   DEPT OF HEALTH/MENTAL HYGIENE_2023  External_2023   \n",
       "1     379094_2023    NYC EMPLOYEES RETIREMENT SYS_2023  External_2023   \n",
       "2     520417_2023           NYC HOUSING AUTHORITY_2023  External_2023   \n",
       "3     233549_2023    NYC EMPLOYEES RETIREMENT SYS_2023  External_2023   \n",
       "4     510256_2023         HUMAN RIGHTS COMMISSION_2023  External_2023   \n",
       "...           ...                                  ...            ...   \n",
       "3768  457839_2023    NYC EMPLOYEES RETIREMENT SYS_2023  Internal_2023   \n",
       "3769  527141_2023  HOUSING PRESERVATION & DVLPMNT_2023  Internal_2023   \n",
       "3770  509443_2023      FINANCIAL INFO SVCS AGENCY_2023  Internal_2023   \n",
       "3771  352367_2023   DEPT OF HEALTH/MENTAL HYGIENE_2023  Internal_2023   \n",
       "3772  478739_2023         HUMAN RIGHTS COMMISSION_2023  External_2023   \n",
       "\n",
       "                      Civil Service Title  \\\n",
       "0                Public health nurse_2023   \n",
       "1            Cert it developer (app)_2023   \n",
       "2           Executive agency counsel_2023   \n",
       "3     Certified it administrator (la_2023   \n",
       "4     Associate human rights special_2023   \n",
       "...                                   ...   \n",
       "3768  Certified it administrator (la_2023   \n",
       "3769   Associate housing development_2023   \n",
       "3770             Senior it architect_2023   \n",
       "3771                       Economist_2023   \n",
       "3772         Agency attorney interne_2023   \n",
       "\n",
       "                                          Job Category Salary Range From  \\\n",
       "0                                          Health_2023      84252.0_2023   \n",
       "1                   Technology, Data & Innovation_2023      82884.0_2023   \n",
       "2                                   Legal Affairs_2023     105000.0_2023   \n",
       "3     Information Technology & Telecommunications_2023      87203.0_2023   \n",
       "4       Constituent Services & Community Programs_2023      58449.0_2023   \n",
       "...                                                ...               ...   \n",
       "3768                Technology, Data & Innovation_2023      85371.0_2023   \n",
       "3769        Engineering, Architecture, & Planning_2023      74650.0_2023   \n",
       "3770                Technology, Data & Innovation_2023     100000.0_2023   \n",
       "3771           Finance, Accounting, & Procurement_2023      42288.0_2023   \n",
       "3772                                Legal Affairs_2023      62397.0_2023   \n",
       "\n",
       "     Salary Range To   Process Date    Salary Avg.  \n",
       "0       84252.0_2023  04-12-22_2023   84252.0_2023  \n",
       "1      116391.0_2023  04-12-22_2023   99637.5_2023  \n",
       "2      125000.0_2023  04-12-22_2023  115000.0_2023  \n",
       "3      131623.0_2023  04-12-22_2023  109413.0_2023  \n",
       "4       67216.0_2023  04-12-22_2023   62832.5_2023  \n",
       "...              ...            ...            ...  \n",
       "3768   119883.0_2023  04-12-22_2023  102627.0_2023  \n",
       "3769    85847.0_2023  04-12-22_2023   80248.5_2023  \n",
       "3770   115000.0_2023  04-12-22_2023  107500.0_2023  \n",
       "3771    59400.0_2023  04-12-22_2023   50844.0_2023  \n",
       "3772    71757.0_2023  04-12-22_2023   67077.0_2023  \n",
       "\n",
       "[3773 rows x 9 columns]"
      ]
     },
     "execution_count": 25,
     "metadata": {},
     "output_type": "execute_result"
    }
   ],
   "source": [
    "# Applymap on whole dataset\n",
    "def add_year(text):\n",
    "    return str(text) + '_2023'\n",
    "\n",
    "data.applymap(add_year)"
   ]
  },
  {
   "cell_type": "markdown",
   "id": "441aaf86",
   "metadata": {},
   "source": [
    "# 6.0 Map on Series or Dictionary to the Map Function"
   ]
  },
  {
   "cell_type": "code",
   "execution_count": 26,
   "id": "418df03c",
   "metadata": {},
   "outputs": [
    {
     "data": {
      "text/plain": [
       "0       Cat\n",
       "1       Dog\n",
       "2       NaN\n",
       "3    Rabbit\n",
       "dtype: object"
      ]
     },
     "execution_count": 26,
     "metadata": {},
     "output_type": "execute_result"
    }
   ],
   "source": [
    "# Create a series object\n",
    "s = pd.Series(['Cat','Dog','NaN', 'Rabbit'])\n",
    "s"
   ]
  },
  {
   "cell_type": "code",
   "execution_count": 27,
   "id": "f4c8c03b",
   "metadata": {},
   "outputs": [
    {
     "data": {
      "text/plain": [
       "0    Kitten\n",
       "1     Puppy\n",
       "2       NaN\n",
       "3       NaN\n",
       "dtype: object"
      ]
     },
     "execution_count": 27,
     "metadata": {},
     "output_type": "execute_result"
    }
   ],
   "source": [
    "# replace with Map with dic, if not matched that will ruturn Nan, be careful about that\n",
    "s.map({'Cat':'Kitten','Dog':'Puppy'})"
   ]
  },
  {
   "cell_type": "code",
   "execution_count": 28,
   "id": "cf986022",
   "metadata": {},
   "outputs": [
    {
     "data": {
      "text/plain": [
       "0       Division OF HEALTH/MENTAL HYGIENE\n",
       "1            NYC EMPLOYEES RETIREMENT SYS\n",
       "2                   NYC HOUSING AUTHORITY\n",
       "3            NYC EMPLOYEES RETIREMENT SYS\n",
       "4                 HUMAN RIGHTS COMMISSION\n",
       "                      ...                \n",
       "3768         NYC EMPLOYEES RETIREMENT SYS\n",
       "3769       HOUSING PRESERVATION & DVLPMNT\n",
       "3770           FINANCIAL INFO SVCS AGENCY\n",
       "3771    Division OF HEALTH/MENTAL HYGIENE\n",
       "3772              HUMAN RIGHTS COMMISSION\n",
       "Name: Agency, Length: 3773, dtype: object"
      ]
     },
     "execution_count": 28,
     "metadata": {},
     "output_type": "execute_result"
    }
   ],
   "source": [
    "## Replace map with fuction\n",
    "def change_word(title):\n",
    "    return title.replace('DEPT','Division')\n",
    "\n",
    "data['Agency'].map(change_word)"
   ]
  },
  {
   "cell_type": "markdown",
   "id": "aa9c13d2",
   "metadata": {},
   "source": [
    "1. Apply map effect all df\n",
    "2. Map on sigle column, lets take an example"
   ]
  },
  {
   "cell_type": "code",
   "execution_count": 29,
   "id": "06338ff9",
   "metadata": {},
   "outputs": [
    {
     "data": {
      "text/html": [
       "<div>\n",
       "<style scoped>\n",
       "    .dataframe tbody tr th:only-of-type {\n",
       "        vertical-align: middle;\n",
       "    }\n",
       "\n",
       "    .dataframe tbody tr th {\n",
       "        vertical-align: top;\n",
       "    }\n",
       "\n",
       "    .dataframe thead th {\n",
       "        text-align: right;\n",
       "    }\n",
       "</style>\n",
       "<table border=\"1\" class=\"dataframe\">\n",
       "  <thead>\n",
       "    <tr style=\"text-align: right;\">\n",
       "      <th></th>\n",
       "      <th>Job ID</th>\n",
       "      <th>Agency</th>\n",
       "      <th>Posting Type</th>\n",
       "      <th>Civil Service Title</th>\n",
       "      <th>Job Category</th>\n",
       "      <th>Salary Range From</th>\n",
       "      <th>Salary Range To</th>\n",
       "      <th>Process Date</th>\n",
       "      <th>Salary Avg.</th>\n",
       "    </tr>\n",
       "  </thead>\n",
       "  <tbody>\n",
       "    <tr>\n",
       "      <th>0</th>\n",
       "      <td>424339</td>\n",
       "      <td>DEPT OF HEALTH/MENTAL HYGIENE</td>\n",
       "      <td>External</td>\n",
       "      <td>Public health nurse</td>\n",
       "      <td>Health</td>\n",
       "      <td>84252.0</td>\n",
       "      <td>84252.0</td>\n",
       "      <td>04-12-22</td>\n",
       "      <td>84252.0</td>\n",
       "    </tr>\n",
       "    <tr>\n",
       "      <th>1</th>\n",
       "      <td>379094</td>\n",
       "      <td>NYC EMPLOYEES RETIREMENT SYS</td>\n",
       "      <td>External</td>\n",
       "      <td>Cert it developer (app)</td>\n",
       "      <td>Technology, Data &amp; Innovation</td>\n",
       "      <td>82884.0</td>\n",
       "      <td>116391.0</td>\n",
       "      <td>04-12-22</td>\n",
       "      <td>99637.5</td>\n",
       "    </tr>\n",
       "    <tr>\n",
       "      <th>2</th>\n",
       "      <td>520417</td>\n",
       "      <td>NYC HOUSING AUTHORITY</td>\n",
       "      <td>External</td>\n",
       "      <td>Executive agency counsel</td>\n",
       "      <td>Legal Affairs</td>\n",
       "      <td>105000.0</td>\n",
       "      <td>125000.0</td>\n",
       "      <td>04-12-22</td>\n",
       "      <td>115000.0</td>\n",
       "    </tr>\n",
       "    <tr>\n",
       "      <th>3</th>\n",
       "      <td>233549</td>\n",
       "      <td>NYC EMPLOYEES RETIREMENT SYS</td>\n",
       "      <td>External</td>\n",
       "      <td>Certified it administrator (la</td>\n",
       "      <td>Information Technology &amp; Telecommunications</td>\n",
       "      <td>87203.0</td>\n",
       "      <td>131623.0</td>\n",
       "      <td>04-12-22</td>\n",
       "      <td>109413.0</td>\n",
       "    </tr>\n",
       "    <tr>\n",
       "      <th>4</th>\n",
       "      <td>510256</td>\n",
       "      <td>HUMAN RIGHTS COMMISSION</td>\n",
       "      <td>External</td>\n",
       "      <td>Associate human rights special</td>\n",
       "      <td>Constituent Services &amp; Community Programs</td>\n",
       "      <td>58449.0</td>\n",
       "      <td>67216.0</td>\n",
       "      <td>04-12-22</td>\n",
       "      <td>62832.5</td>\n",
       "    </tr>\n",
       "  </tbody>\n",
       "</table>\n",
       "</div>"
      ],
      "text/plain": [
       "   Job ID                         Agency Posting Type  \\\n",
       "0  424339  DEPT OF HEALTH/MENTAL HYGIENE     External   \n",
       "1  379094   NYC EMPLOYEES RETIREMENT SYS     External   \n",
       "2  520417          NYC HOUSING AUTHORITY     External   \n",
       "3  233549   NYC EMPLOYEES RETIREMENT SYS     External   \n",
       "4  510256        HUMAN RIGHTS COMMISSION     External   \n",
       "\n",
       "              Civil Service Title  \\\n",
       "0             Public health nurse   \n",
       "1         Cert it developer (app)   \n",
       "2        Executive agency counsel   \n",
       "3  Certified it administrator (la   \n",
       "4  Associate human rights special   \n",
       "\n",
       "                                  Job Category  Salary Range From  \\\n",
       "0                                       Health            84252.0   \n",
       "1                Technology, Data & Innovation            82884.0   \n",
       "2                                Legal Affairs           105000.0   \n",
       "3  Information Technology & Telecommunications            87203.0   \n",
       "4    Constituent Services & Community Programs            58449.0   \n",
       "\n",
       "   Salary Range To Process Date  Salary Avg.  \n",
       "0          84252.0     04-12-22      84252.0  \n",
       "1         116391.0     04-12-22      99637.5  \n",
       "2         125000.0     04-12-22     115000.0  \n",
       "3         131623.0     04-12-22     109413.0  \n",
       "4          67216.0     04-12-22      62832.5  "
      ]
     },
     "execution_count": 29,
     "metadata": {},
     "output_type": "execute_result"
    }
   ],
   "source": [
    "data.head()"
   ]
  },
  {
   "cell_type": "code",
   "execution_count": 30,
   "id": "8dd70036",
   "metadata": {},
   "outputs": [
    {
     "data": {
      "text/plain": [
       "0       This Position is offered by DEPT OF HEALTH/MEN...\n",
       "1       This Position is offered by NYC EMPLOYEES RETI...\n",
       "2       This Position is offered by NYC HOUSING AUTHORITY\n",
       "3       This Position is offered by NYC EMPLOYEES RETI...\n",
       "4       This Position is offered by HUMAN RIGHTS COMMI...\n",
       "                              ...                        \n",
       "3768    This Position is offered by NYC EMPLOYEES RETI...\n",
       "3769    This Position is offered by HOUSING PRESERVATI...\n",
       "3770    This Position is offered by FINANCIAL INFO SVC...\n",
       "3771    This Position is offered by DEPT OF HEALTH/MEN...\n",
       "3772    This Position is offered by HUMAN RIGHTS COMMI...\n",
       "Name: Agency, Length: 3773, dtype: object"
      ]
     },
     "execution_count": 30,
     "metadata": {},
     "output_type": "execute_result"
    }
   ],
   "source": [
    "# map on single col, like adding a sentence\n",
    "data['Agency'].map('This Position is offered by {}'.format) # .format must be outside of quoation\n",
    "\n",
    "\n",
    "\n"
   ]
  },
  {
   "cell_type": "markdown",
   "id": "b670a8c8",
   "metadata": {},
   "source": [
    "## 1.0 Map Function"
   ]
  },
  {
   "cell_type": "code",
   "execution_count": 39,
   "id": "042e2755",
   "metadata": {},
   "outputs": [
    {
     "data": {
      "text/plain": [
       "True"
      ]
     },
     "execution_count": 39,
     "metadata": {},
     "output_type": "execute_result"
    }
   ],
   "source": [
    "5%2 ==1 # Check odd & even. checking by 1 with 'True' that mean it check"
   ]
  },
  {
   "cell_type": "code",
   "execution_count": 32,
   "id": "db33aef7",
   "metadata": {},
   "outputs": [
    {
     "data": {
      "text/plain": [
       "False"
      ]
     },
     "execution_count": 32,
     "metadata": {},
     "output_type": "execute_result"
    }
   ],
   "source": [
    "6%2 ==1 # even, it will not return/ reminder 1 if divided by 2, so fales & its is even number"
   ]
  },
  {
   "cell_type": "code",
   "execution_count": 40,
   "id": "0aad6fbf",
   "metadata": {},
   "outputs": [
    {
     "data": {
      "text/plain": [
       "False"
      ]
     },
     "execution_count": 40,
     "metadata": {},
     "output_type": "execute_result"
    }
   ],
   "source": [
    "5%2 ==0 # it wil not return any remainder, so it it odd number"
   ]
  },
  {
   "cell_type": "markdown",
   "id": "d8689dad",
   "metadata": {},
   "source": [
    "### Q1. From a list return all even number"
   ]
  },
  {
   "cell_type": "code",
   "execution_count": null,
   "id": "2f98c76e",
   "metadata": {},
   "outputs": [],
   "source": [
    "# Map Function - map(function, iterable)      >> Syntax\n",
    "#              - returns an iterator that applies function to every item of iterable"
   ]
  },
  {
   "cell_type": "code",
   "execution_count": 33,
   "id": "b445d32b",
   "metadata": {},
   "outputs": [
    {
     "name": "stdout",
     "output_type": "stream",
     "text": [
      "[566, 542, 890, 892, 854, 854, 224, 234, 244, 244, 114, 116, 112, 680, 516, 516]\n"
     ]
    }
   ],
   "source": [
    "# 1.1 (test1) - General\n",
    "def make_even(num):\n",
    "    if num%2 == 1:\n",
    "        return num+1\n",
    "    else:\n",
    "        return num\n",
    "x = [565, 541, 890, 891, 854, 853, 223, 234, 243, 244, 114, 115, 111, 679, 515, 516]\n",
    "\n",
    "y = []\n",
    "\n",
    "for num in x:\n",
    "    y.append(make_even(num)) # apply make even fun to num\n",
    "    \n",
    "print(y)"
   ]
  },
  {
   "cell_type": "markdown",
   "id": "b401fcee",
   "metadata": {},
   "source": [
    "#### 1.1 Code Narration (Q1- Test 1)"
   ]
  },
  {
   "cell_type": "markdown",
   "id": "ee42653b",
   "metadata": {},
   "source": [
    "1. define a fun that will take a single num\n",
    "2. if any reminder (==1) that wil be odd number, so in return add 1, to get \"Even Numbers\"\n",
    "3. Otherwise, return num\n",
    "4. x is a list of all mixed numbers (odd & even)\n",
    "5. y is black list for storing numbers (which will be passed by append even numbers only\n",
    "6. print y"
   ]
  },
  {
   "cell_type": "code",
   "execution_count": 35,
   "id": "7d1cfd3e",
   "metadata": {},
   "outputs": [
    {
     "name": "stdout",
     "output_type": "stream",
     "text": [
      "<map object at 0x000001D13FB42CE0>\n"
     ]
    }
   ],
   "source": [
    "# 1.2 (test2) - Map Function\n",
    "def make_even(num):\n",
    "    if num%2 == 1:\n",
    "        return num+1\n",
    "    else:\n",
    "        return num\n",
    "x = [565, 541, 890, 891, 854, 853, 223, 234, 243, 244, 114, 115, 111, 679, 515, 516]\n",
    "\n",
    "##      function, iterable\n",
    "y = map(make_even, x) # return python 'map object' this is python way to save memory to print, need to convert in list\n",
    "   \n",
    "print(y)"
   ]
  },
  {
   "cell_type": "code",
   "execution_count": 36,
   "id": "9666a7f0",
   "metadata": {},
   "outputs": [
    {
     "name": "stdout",
     "output_type": "stream",
     "text": [
      "[566, 542, 890, 892, 854, 854, 224, 234, 244, 244, 114, 116, 112, 680, 516, 516]\n"
     ]
    }
   ],
   "source": [
    "def make_even(num):\n",
    "    if num%2 == 1:\n",
    "        return num+1\n",
    "    else:\n",
    "        return num\n",
    "x = [565, 541, 890, 891, 854, 853, 223, 234, 243, 244, 114, 115, 111, 679, 515, 516]\n",
    "\n",
    "y = list(map(make_even, x))  # after map, append is not requried/ supported\n",
    "\n",
    "print(y) "
   ]
  },
  {
   "cell_type": "code",
   "execution_count": 37,
   "id": "83b032e2",
   "metadata": {},
   "outputs": [
    {
     "name": "stdout",
     "output_type": "stream",
     "text": [
      "[566, 542, 890, 892, 854, 854, 224, 234, 244, 244, 114, 116, 112, 680, 516, 516]\n"
     ]
    }
   ],
   "source": [
    "# List Comprehension\n",
    "def make_even(num):\n",
    "    if num%2 == 1:\n",
    "        return num+1\n",
    "    else:\n",
    "        return num\n",
    "x = [565, 541, 890, 891, 854, 853, 223, 234, 243, 244, 114, 115, 111, 679, 515, 516]\n",
    "\n",
    "y = [make_even(num) for num in x] # list comprehension\n",
    "\n",
    "print(y) "
   ]
  },
  {
   "cell_type": "markdown",
   "id": "c34b6a2e",
   "metadata": {},
   "source": [
    "1. Map & list comprehenion is preferable for use most\n",
    "2. list comprehesion is more preferable to use"
   ]
  },
  {
   "cell_type": "markdown",
   "id": "d16a0ca9",
   "metadata": {},
   "source": [
    "## 1.2 Map , Filter & Reduce Function"
   ]
  },
  {
   "cell_type": "markdown",
   "id": "4f6e5e41",
   "metadata": {},
   "source": [
    "##### Problem 2: Compute Area of a circle !"
   ]
  },
  {
   "cell_type": "code",
   "execution_count": 41,
   "id": "c4703bf1",
   "metadata": {},
   "outputs": [
    {
     "data": {
      "text/plain": [
       "[12.566370614359172,\n",
       " 78.53981633974483,\n",
       " 158.36768566746147,\n",
       " 0.2827433388230814,\n",
       " 314.1592653589793]"
      ]
     },
     "execution_count": 41,
     "metadata": {},
     "output_type": "execute_result"
    }
   ],
   "source": [
    "# Test 2.1\n",
    "import math\n",
    "\n",
    "def area(r):\n",
    "    return math.pi * (r**2)\n",
    "\n",
    "radii = [2, 5, 7.1, 0.3, 10] # list of radias\n",
    "pass\n",
    "\n",
    "# Method 1: Direct Method\n",
    "\n",
    "areas = []                      # first create a empty list of areas\n",
    "for r in radii:                 # Loop over the list of radias\n",
    "    a = area(r)                 # for each radias compute the radias of circle\n",
    "    areas.append(a)             # then append to the area list\n",
    "    \n",
    "areas"
   ]
  },
  {
   "cell_type": "code",
   "execution_count": null,
   "id": "33b2c86f",
   "metadata": {},
   "outputs": [],
   "source": [
    "# 2.2 : Method 2: we can complete with a lingle line of code\n",
    "# syntax map(function, list or iterable)"
   ]
  },
  {
   "cell_type": "code",
   "execution_count": 42,
   "id": "5e827d44",
   "metadata": {},
   "outputs": [
    {
     "data": {
      "text/plain": [
       "<map at 0x1d13fbcbbb0>"
      ]
     },
     "execution_count": 42,
     "metadata": {},
     "output_type": "execute_result"
    }
   ],
   "source": [
    "# Test 2.2\n",
    "import math\n",
    "\n",
    "def area(r):\n",
    "    return math.pi * (r**2)\n",
    "\n",
    "radii = [2, 5, 7.1, 0.3, 10] # list of radias\n",
    "pass\n",
    "\n",
    "# Method 2: Use 'Map' fuction\n",
    "\n",
    "map(area, radii) # here map will apply on area func of each elements of list(radii) >> return map object"
   ]
  },
  {
   "cell_type": "code",
   "execution_count": 43,
   "id": "fe22c59b",
   "metadata": {},
   "outputs": [
    {
     "data": {
      "text/plain": [
       "[12.566370614359172,\n",
       " 78.53981633974483,\n",
       " 158.36768566746147,\n",
       " 0.2827433388230814,\n",
       " 314.1592653589793]"
      ]
     },
     "execution_count": 43,
     "metadata": {},
     "output_type": "execute_result"
    }
   ],
   "source": [
    "# Test 2.2\n",
    "import math\n",
    "\n",
    "def area(r):\n",
    "    return math.pi * (r**2)\n",
    "\n",
    "radii = [2, 5, 7.1, 0.3, 10] # list of radias\n",
    "pass\n",
    "\n",
    "# Method 2: Use 'Map' fuction\n",
    "\n",
    "list(map(area, radii))  # print when convert to list constractor"
   ]
  },
  {
   "cell_type": "code",
   "execution_count": null,
   "id": "7fdfe2a8",
   "metadata": {},
   "outputs": [],
   "source": []
  },
  {
   "cell_type": "code",
   "execution_count": null,
   "id": "5dbf94c5",
   "metadata": {},
   "outputs": [],
   "source": []
  },
  {
   "cell_type": "code",
   "execution_count": null,
   "id": "2f2f4e76",
   "metadata": {},
   "outputs": [],
   "source": []
  },
  {
   "cell_type": "markdown",
   "id": "ac2ed06f",
   "metadata": {},
   "source": [
    "### Ref"
   ]
  },
  {
   "cell_type": "markdown",
   "id": "914249f5",
   "metadata": {},
   "source": [
    "1. https://www.youtube.com/watch?v=DsjvCKxOdgI\n",
    "2. https://www.youtube.com/watch?v=Emd4oXErshw\n",
    "3. https://www.youtube.com/watch?v=hUes6y2b--0"
   ]
  },
  {
   "cell_type": "code",
   "execution_count": null,
   "id": "6347e34b",
   "metadata": {},
   "outputs": [],
   "source": []
  }
 ],
 "metadata": {
  "kernelspec": {
   "display_name": "Python 3 (ipykernel)",
   "language": "python",
   "name": "python3"
  },
  "language_info": {
   "codemirror_mode": {
    "name": "ipython",
    "version": 3
   },
   "file_extension": ".py",
   "mimetype": "text/x-python",
   "name": "python",
   "nbconvert_exporter": "python",
   "pygments_lexer": "ipython3",
   "version": "3.10.7"
  }
 },
 "nbformat": 4,
 "nbformat_minor": 5
}
