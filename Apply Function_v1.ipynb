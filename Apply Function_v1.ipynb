{
 "cells": [
  {
   "cell_type": "markdown",
   "id": "4daf6558",
   "metadata": {},
   "source": [
    "# Apply Function"
   ]
  },
  {
   "cell_type": "code",
   "execution_count": 3,
   "id": "e91b7b85",
   "metadata": {},
   "outputs": [],
   "source": [
    "import pandas as pd\n",
    "import numpy as np"
   ]
  },
  {
   "cell_type": "code",
   "execution_count": 4,
   "id": "54c9977d",
   "metadata": {},
   "outputs": [
    {
     "data": {
      "text/html": [
       "<div>\n",
       "<style scoped>\n",
       "    .dataframe tbody tr th:only-of-type {\n",
       "        vertical-align: middle;\n",
       "    }\n",
       "\n",
       "    .dataframe tbody tr th {\n",
       "        vertical-align: top;\n",
       "    }\n",
       "\n",
       "    .dataframe thead th {\n",
       "        text-align: right;\n",
       "    }\n",
       "</style>\n",
       "<table border=\"1\" class=\"dataframe\">\n",
       "  <thead>\n",
       "    <tr style=\"text-align: right;\">\n",
       "      <th></th>\n",
       "      <th>Job ID</th>\n",
       "      <th>Agency</th>\n",
       "      <th>Posting Type</th>\n",
       "      <th>Civil Service Title</th>\n",
       "      <th>Job Category</th>\n",
       "      <th>Salary Range From</th>\n",
       "      <th>Salary Range To</th>\n",
       "      <th>Process Date</th>\n",
       "    </tr>\n",
       "  </thead>\n",
       "  <tbody>\n",
       "    <tr>\n",
       "      <th>0</th>\n",
       "      <td>424339</td>\n",
       "      <td>DEPT OF HEALTH/MENTAL HYGIENE</td>\n",
       "      <td>External</td>\n",
       "      <td>PUBLIC HEALTH NURSE</td>\n",
       "      <td>Health</td>\n",
       "      <td>84252.0</td>\n",
       "      <td>84252.0</td>\n",
       "      <td>04-12-22</td>\n",
       "    </tr>\n",
       "    <tr>\n",
       "      <th>1</th>\n",
       "      <td>379094</td>\n",
       "      <td>NYC EMPLOYEES RETIREMENT SYS</td>\n",
       "      <td>External</td>\n",
       "      <td>CERT IT DEVELOPER (APP)</td>\n",
       "      <td>Technology, Data &amp; Innovation</td>\n",
       "      <td>82884.0</td>\n",
       "      <td>116391.0</td>\n",
       "      <td>04-12-22</td>\n",
       "    </tr>\n",
       "    <tr>\n",
       "      <th>2</th>\n",
       "      <td>520417</td>\n",
       "      <td>NYC HOUSING AUTHORITY</td>\n",
       "      <td>External</td>\n",
       "      <td>EXECUTIVE AGENCY COUNSEL</td>\n",
       "      <td>Legal Affairs</td>\n",
       "      <td>105000.0</td>\n",
       "      <td>125000.0</td>\n",
       "      <td>04-12-22</td>\n",
       "    </tr>\n",
       "    <tr>\n",
       "      <th>3</th>\n",
       "      <td>233549</td>\n",
       "      <td>NYC EMPLOYEES RETIREMENT SYS</td>\n",
       "      <td>External</td>\n",
       "      <td>CERTIFIED IT ADMINISTRATOR (LA</td>\n",
       "      <td>Information Technology &amp; Telecommunications</td>\n",
       "      <td>87203.0</td>\n",
       "      <td>131623.0</td>\n",
       "      <td>04-12-22</td>\n",
       "    </tr>\n",
       "    <tr>\n",
       "      <th>4</th>\n",
       "      <td>510256</td>\n",
       "      <td>HUMAN RIGHTS COMMISSION</td>\n",
       "      <td>External</td>\n",
       "      <td>ASSOCIATE HUMAN RIGHTS SPECIAL</td>\n",
       "      <td>Constituent Services &amp; Community Programs</td>\n",
       "      <td>58449.0</td>\n",
       "      <td>67216.0</td>\n",
       "      <td>04-12-22</td>\n",
       "    </tr>\n",
       "  </tbody>\n",
       "</table>\n",
       "</div>"
      ],
      "text/plain": [
       "   Job ID                         Agency Posting Type  \\\n",
       "0  424339  DEPT OF HEALTH/MENTAL HYGIENE     External   \n",
       "1  379094   NYC EMPLOYEES RETIREMENT SYS     External   \n",
       "2  520417          NYC HOUSING AUTHORITY     External   \n",
       "3  233549   NYC EMPLOYEES RETIREMENT SYS     External   \n",
       "4  510256        HUMAN RIGHTS COMMISSION     External   \n",
       "\n",
       "              Civil Service Title  \\\n",
       "0             PUBLIC HEALTH NURSE   \n",
       "1         CERT IT DEVELOPER (APP)   \n",
       "2        EXECUTIVE AGENCY COUNSEL   \n",
       "3  CERTIFIED IT ADMINISTRATOR (LA   \n",
       "4  ASSOCIATE HUMAN RIGHTS SPECIAL   \n",
       "\n",
       "                                  Job Category  Salary Range From  \\\n",
       "0                                       Health            84252.0   \n",
       "1                Technology, Data & Innovation            82884.0   \n",
       "2                                Legal Affairs           105000.0   \n",
       "3  Information Technology & Telecommunications            87203.0   \n",
       "4    Constituent Services & Community Programs            58449.0   \n",
       "\n",
       "   Salary Range To Process Date  \n",
       "0          84252.0     04-12-22  \n",
       "1         116391.0     04-12-22  \n",
       "2         125000.0     04-12-22  \n",
       "3         131623.0     04-12-22  \n",
       "4          67216.0     04-12-22  "
      ]
     },
     "execution_count": 4,
     "metadata": {},
     "output_type": "execute_result"
    }
   ],
   "source": [
    "data = pd.read_csv('NYC_Jobs.csv')\n",
    "data.head()"
   ]
  },
  {
   "cell_type": "markdown",
   "id": "35f9d729",
   "metadata": {},
   "source": [
    "### Test 1.0: Apply - Square Root"
   ]
  },
  {
   "cell_type": "code",
   "execution_count": 10,
   "id": "a5006781",
   "metadata": {},
   "outputs": [
    {
     "data": {
      "text/plain": [
       "0       290.261951\n",
       "1       287.895814\n",
       "2       324.037035\n",
       "3       295.301541\n",
       "4       241.762280\n",
       "           ...    \n",
       "3768    292.183162\n",
       "3769    273.221522\n",
       "3770    316.227766\n",
       "3771    205.640463\n",
       "3772    249.793915\n",
       "Name: Salary Range From, Length: 3773, dtype: float64"
      ]
     },
     "execution_count": 10,
     "metadata": {},
     "output_type": "execute_result"
    }
   ],
   "source": [
    "# 1.0 Single bracket, return series object\n",
    "data['Salary Range From'].apply(np.sqrt)"
   ]
  },
  {
   "cell_type": "code",
   "execution_count": 9,
   "id": "adc4696b",
   "metadata": {},
   "outputs": [
    {
     "data": {
      "text/html": [
       "<div>\n",
       "<style scoped>\n",
       "    .dataframe tbody tr th:only-of-type {\n",
       "        vertical-align: middle;\n",
       "    }\n",
       "\n",
       "    .dataframe tbody tr th {\n",
       "        vertical-align: top;\n",
       "    }\n",
       "\n",
       "    .dataframe thead th {\n",
       "        text-align: right;\n",
       "    }\n",
       "</style>\n",
       "<table border=\"1\" class=\"dataframe\">\n",
       "  <thead>\n",
       "    <tr style=\"text-align: right;\">\n",
       "      <th></th>\n",
       "      <th>Salary Range From</th>\n",
       "    </tr>\n",
       "  </thead>\n",
       "  <tbody>\n",
       "    <tr>\n",
       "      <th>0</th>\n",
       "      <td>290.261951</td>\n",
       "    </tr>\n",
       "    <tr>\n",
       "      <th>1</th>\n",
       "      <td>287.895814</td>\n",
       "    </tr>\n",
       "    <tr>\n",
       "      <th>2</th>\n",
       "      <td>324.037035</td>\n",
       "    </tr>\n",
       "    <tr>\n",
       "      <th>3</th>\n",
       "      <td>295.301541</td>\n",
       "    </tr>\n",
       "    <tr>\n",
       "      <th>4</th>\n",
       "      <td>241.762280</td>\n",
       "    </tr>\n",
       "    <tr>\n",
       "      <th>...</th>\n",
       "      <td>...</td>\n",
       "    </tr>\n",
       "    <tr>\n",
       "      <th>3768</th>\n",
       "      <td>292.183162</td>\n",
       "    </tr>\n",
       "    <tr>\n",
       "      <th>3769</th>\n",
       "      <td>273.221522</td>\n",
       "    </tr>\n",
       "    <tr>\n",
       "      <th>3770</th>\n",
       "      <td>316.227766</td>\n",
       "    </tr>\n",
       "    <tr>\n",
       "      <th>3771</th>\n",
       "      <td>205.640463</td>\n",
       "    </tr>\n",
       "    <tr>\n",
       "      <th>3772</th>\n",
       "      <td>249.793915</td>\n",
       "    </tr>\n",
       "  </tbody>\n",
       "</table>\n",
       "<p>3773 rows × 1 columns</p>\n",
       "</div>"
      ],
      "text/plain": [
       "      Salary Range From\n",
       "0            290.261951\n",
       "1            287.895814\n",
       "2            324.037035\n",
       "3            295.301541\n",
       "4            241.762280\n",
       "...                 ...\n",
       "3768         292.183162\n",
       "3769         273.221522\n",
       "3770         316.227766\n",
       "3771         205.640463\n",
       "3772         249.793915\n",
       "\n",
       "[3773 rows x 1 columns]"
      ]
     },
     "execution_count": 9,
     "metadata": {},
     "output_type": "execute_result"
    }
   ],
   "source": [
    "# data frame object 1.2\n",
    "data[['Salary Range From']].apply(np.sqrt)"
   ]
  },
  {
   "cell_type": "code",
   "execution_count": 12,
   "id": "0cdfe820",
   "metadata": {},
   "outputs": [
    {
     "data": {
      "text/plain": [
       "pandas.core.frame.DataFrame"
      ]
     },
     "execution_count": 12,
     "metadata": {},
     "output_type": "execute_result"
    }
   ],
   "source": [
    "# test 1.3, see the type ita dataFrame object\n",
    "type(data[['Salary Range From', 'Salary Range To']])"
   ]
  },
  {
   "cell_type": "code",
   "execution_count": 13,
   "id": "8ab4a271",
   "metadata": {},
   "outputs": [
    {
     "data": {
      "text/html": [
       "<div>\n",
       "<style scoped>\n",
       "    .dataframe tbody tr th:only-of-type {\n",
       "        vertical-align: middle;\n",
       "    }\n",
       "\n",
       "    .dataframe tbody tr th {\n",
       "        vertical-align: top;\n",
       "    }\n",
       "\n",
       "    .dataframe thead th {\n",
       "        text-align: right;\n",
       "    }\n",
       "</style>\n",
       "<table border=\"1\" class=\"dataframe\">\n",
       "  <thead>\n",
       "    <tr style=\"text-align: right;\">\n",
       "      <th></th>\n",
       "      <th>Salary Range From</th>\n",
       "      <th>Salary Range To</th>\n",
       "    </tr>\n",
       "  </thead>\n",
       "  <tbody>\n",
       "    <tr>\n",
       "      <th>0</th>\n",
       "      <td>290.261951</td>\n",
       "      <td>290.261951</td>\n",
       "    </tr>\n",
       "    <tr>\n",
       "      <th>1</th>\n",
       "      <td>287.895814</td>\n",
       "      <td>341.161252</td>\n",
       "    </tr>\n",
       "    <tr>\n",
       "      <th>2</th>\n",
       "      <td>324.037035</td>\n",
       "      <td>353.553391</td>\n",
       "    </tr>\n",
       "    <tr>\n",
       "      <th>3</th>\n",
       "      <td>295.301541</td>\n",
       "      <td>362.798842</td>\n",
       "    </tr>\n",
       "    <tr>\n",
       "      <th>4</th>\n",
       "      <td>241.762280</td>\n",
       "      <td>259.260487</td>\n",
       "    </tr>\n",
       "    <tr>\n",
       "      <th>...</th>\n",
       "      <td>...</td>\n",
       "      <td>...</td>\n",
       "    </tr>\n",
       "    <tr>\n",
       "      <th>3768</th>\n",
       "      <td>292.183162</td>\n",
       "      <td>346.241245</td>\n",
       "    </tr>\n",
       "    <tr>\n",
       "      <th>3769</th>\n",
       "      <td>273.221522</td>\n",
       "      <td>292.996587</td>\n",
       "    </tr>\n",
       "    <tr>\n",
       "      <th>3770</th>\n",
       "      <td>316.227766</td>\n",
       "      <td>339.116499</td>\n",
       "    </tr>\n",
       "    <tr>\n",
       "      <th>3771</th>\n",
       "      <td>205.640463</td>\n",
       "      <td>243.721152</td>\n",
       "    </tr>\n",
       "    <tr>\n",
       "      <th>3772</th>\n",
       "      <td>249.793915</td>\n",
       "      <td>267.874971</td>\n",
       "    </tr>\n",
       "  </tbody>\n",
       "</table>\n",
       "<p>3773 rows × 2 columns</p>\n",
       "</div>"
      ],
      "text/plain": [
       "      Salary Range From  Salary Range To\n",
       "0            290.261951       290.261951\n",
       "1            287.895814       341.161252\n",
       "2            324.037035       353.553391\n",
       "3            295.301541       362.798842\n",
       "4            241.762280       259.260487\n",
       "...                 ...              ...\n",
       "3768         292.183162       346.241245\n",
       "3769         273.221522       292.996587\n",
       "3770         316.227766       339.116499\n",
       "3771         205.640463       243.721152\n",
       "3772         249.793915       267.874971\n",
       "\n",
       "[3773 rows x 2 columns]"
      ]
     },
     "execution_count": 13,
     "metadata": {},
     "output_type": "execute_result"
    }
   ],
   "source": [
    "data[['Salary Range From', 'Salary Range To']].apply(np.sqrt)"
   ]
  },
  {
   "cell_type": "markdown",
   "id": "a4afa1d3",
   "metadata": {},
   "source": [
    "### Take Away:"
   ]
  },
  {
   "cell_type": "markdown",
   "id": "2504e8b5",
   "metadata": {},
   "source": [
    "1. Pandas Apply function can be applied on either Series object or DataFrame object, can not apply on whole data is str"
   ]
  },
  {
   "cell_type": "markdown",
   "id": "b4b39d1c",
   "metadata": {},
   "source": [
    "### Test 2:0 - Find the Average Salary for Each Job"
   ]
  },
  {
   "cell_type": "markdown",
   "id": "571d23ca",
   "metadata": {},
   "source": [
    "1. it can apply for each row or each columns, by default it apply on columns"
   ]
  },
  {
   "cell_type": "code",
   "execution_count": 16,
   "id": "944e1f83",
   "metadata": {},
   "outputs": [
    {
     "data": {
      "text/plain": [
       "Salary Range From    57657.939466\n",
       "Salary Range To      79660.249595\n",
       "dtype: float64"
      ]
     },
     "execution_count": 16,
     "metadata": {},
     "output_type": "execute_result"
    }
   ],
   "source": [
    "# Test 2.1, Applied on columns\n",
    "data[['Salary Range From', 'Salary Range To']].apply(np.mean)  # default"
   ]
  },
  {
   "cell_type": "code",
   "execution_count": 17,
   "id": "dc70b3e9",
   "metadata": {},
   "outputs": [
    {
     "data": {
      "text/plain": [
       "Salary Range From    57657.939466\n",
       "Salary Range To      79660.249595\n",
       "dtype: float64"
      ]
     },
     "execution_count": 17,
     "metadata": {},
     "output_type": "execute_result"
    }
   ],
   "source": [
    "data[['Salary Range From', 'Salary Range To']].apply(np.mean, axis=0) "
   ]
  },
  {
   "cell_type": "code",
   "execution_count": 18,
   "id": "8d5a7e57",
   "metadata": {},
   "outputs": [
    {
     "data": {
      "text/plain": [
       "0        84252.0\n",
       "1        99637.5\n",
       "2       115000.0\n",
       "3       109413.0\n",
       "4        62832.5\n",
       "          ...   \n",
       "3768    102627.0\n",
       "3769     80248.5\n",
       "3770    107500.0\n",
       "3771     50844.0\n",
       "3772     67077.0\n",
       "Length: 3773, dtype: float64"
      ]
     },
     "execution_count": 18,
     "metadata": {},
     "output_type": "execute_result"
    }
   ],
   "source": [
    "data[['Salary Range From', 'Salary Range To']].apply(np.mean, axis=1) # specied for row"
   ]
  },
  {
   "cell_type": "code",
   "execution_count": 20,
   "id": "54fc113d",
   "metadata": {},
   "outputs": [
    {
     "data": {
      "text/plain": [
       "pandas.core.series.Series"
      ]
     },
     "execution_count": 20,
     "metadata": {},
     "output_type": "execute_result"
    }
   ],
   "source": [
    "# Check data type >> Series\n",
    "type(data[['Salary Range From', 'Salary Range To']].apply(np.mean, axis=1))"
   ]
  },
  {
   "cell_type": "markdown",
   "id": "a46c8d09",
   "metadata": {},
   "source": [
    "1. it will not effect original dataframe, but it is possible to add the output in dataframe as test follow:"
   ]
  },
  {
   "cell_type": "code",
   "execution_count": 21,
   "id": "12b9df93",
   "metadata": {},
   "outputs": [
    {
     "data": {
      "text/html": [
       "<div>\n",
       "<style scoped>\n",
       "    .dataframe tbody tr th:only-of-type {\n",
       "        vertical-align: middle;\n",
       "    }\n",
       "\n",
       "    .dataframe tbody tr th {\n",
       "        vertical-align: top;\n",
       "    }\n",
       "\n",
       "    .dataframe thead th {\n",
       "        text-align: right;\n",
       "    }\n",
       "</style>\n",
       "<table border=\"1\" class=\"dataframe\">\n",
       "  <thead>\n",
       "    <tr style=\"text-align: right;\">\n",
       "      <th></th>\n",
       "      <th>Job ID</th>\n",
       "      <th>Agency</th>\n",
       "      <th>Posting Type</th>\n",
       "      <th>Civil Service Title</th>\n",
       "      <th>Job Category</th>\n",
       "      <th>Salary Range From</th>\n",
       "      <th>Salary Range To</th>\n",
       "      <th>Process Date</th>\n",
       "      <th>Salary Avg.</th>\n",
       "    </tr>\n",
       "  </thead>\n",
       "  <tbody>\n",
       "    <tr>\n",
       "      <th>0</th>\n",
       "      <td>424339</td>\n",
       "      <td>DEPT OF HEALTH/MENTAL HYGIENE</td>\n",
       "      <td>External</td>\n",
       "      <td>PUBLIC HEALTH NURSE</td>\n",
       "      <td>Health</td>\n",
       "      <td>84252.0</td>\n",
       "      <td>84252.0</td>\n",
       "      <td>04-12-22</td>\n",
       "      <td>84252.0</td>\n",
       "    </tr>\n",
       "    <tr>\n",
       "      <th>1</th>\n",
       "      <td>379094</td>\n",
       "      <td>NYC EMPLOYEES RETIREMENT SYS</td>\n",
       "      <td>External</td>\n",
       "      <td>CERT IT DEVELOPER (APP)</td>\n",
       "      <td>Technology, Data &amp; Innovation</td>\n",
       "      <td>82884.0</td>\n",
       "      <td>116391.0</td>\n",
       "      <td>04-12-22</td>\n",
       "      <td>99637.5</td>\n",
       "    </tr>\n",
       "    <tr>\n",
       "      <th>2</th>\n",
       "      <td>520417</td>\n",
       "      <td>NYC HOUSING AUTHORITY</td>\n",
       "      <td>External</td>\n",
       "      <td>EXECUTIVE AGENCY COUNSEL</td>\n",
       "      <td>Legal Affairs</td>\n",
       "      <td>105000.0</td>\n",
       "      <td>125000.0</td>\n",
       "      <td>04-12-22</td>\n",
       "      <td>115000.0</td>\n",
       "    </tr>\n",
       "    <tr>\n",
       "      <th>3</th>\n",
       "      <td>233549</td>\n",
       "      <td>NYC EMPLOYEES RETIREMENT SYS</td>\n",
       "      <td>External</td>\n",
       "      <td>CERTIFIED IT ADMINISTRATOR (LA</td>\n",
       "      <td>Information Technology &amp; Telecommunications</td>\n",
       "      <td>87203.0</td>\n",
       "      <td>131623.0</td>\n",
       "      <td>04-12-22</td>\n",
       "      <td>109413.0</td>\n",
       "    </tr>\n",
       "    <tr>\n",
       "      <th>4</th>\n",
       "      <td>510256</td>\n",
       "      <td>HUMAN RIGHTS COMMISSION</td>\n",
       "      <td>External</td>\n",
       "      <td>ASSOCIATE HUMAN RIGHTS SPECIAL</td>\n",
       "      <td>Constituent Services &amp; Community Programs</td>\n",
       "      <td>58449.0</td>\n",
       "      <td>67216.0</td>\n",
       "      <td>04-12-22</td>\n",
       "      <td>62832.5</td>\n",
       "    </tr>\n",
       "    <tr>\n",
       "      <th>...</th>\n",
       "      <td>...</td>\n",
       "      <td>...</td>\n",
       "      <td>...</td>\n",
       "      <td>...</td>\n",
       "      <td>...</td>\n",
       "      <td>...</td>\n",
       "      <td>...</td>\n",
       "      <td>...</td>\n",
       "      <td>...</td>\n",
       "    </tr>\n",
       "    <tr>\n",
       "      <th>3768</th>\n",
       "      <td>457839</td>\n",
       "      <td>NYC EMPLOYEES RETIREMENT SYS</td>\n",
       "      <td>Internal</td>\n",
       "      <td>CERTIFIED IT ADMINISTRATOR (LA</td>\n",
       "      <td>Technology, Data &amp; Innovation</td>\n",
       "      <td>85371.0</td>\n",
       "      <td>119883.0</td>\n",
       "      <td>04-12-22</td>\n",
       "      <td>102627.0</td>\n",
       "    </tr>\n",
       "    <tr>\n",
       "      <th>3769</th>\n",
       "      <td>527141</td>\n",
       "      <td>HOUSING PRESERVATION &amp; DVLPMNT</td>\n",
       "      <td>Internal</td>\n",
       "      <td>ASSOCIATE HOUSING DEVELOPMENT</td>\n",
       "      <td>Engineering, Architecture, &amp; Planning</td>\n",
       "      <td>74650.0</td>\n",
       "      <td>85847.0</td>\n",
       "      <td>04-12-22</td>\n",
       "      <td>80248.5</td>\n",
       "    </tr>\n",
       "    <tr>\n",
       "      <th>3770</th>\n",
       "      <td>509443</td>\n",
       "      <td>FINANCIAL INFO SVCS AGENCY</td>\n",
       "      <td>Internal</td>\n",
       "      <td>SENIOR IT ARCHITECT</td>\n",
       "      <td>Technology, Data &amp; Innovation</td>\n",
       "      <td>100000.0</td>\n",
       "      <td>115000.0</td>\n",
       "      <td>04-12-22</td>\n",
       "      <td>107500.0</td>\n",
       "    </tr>\n",
       "    <tr>\n",
       "      <th>3771</th>\n",
       "      <td>352367</td>\n",
       "      <td>DEPT OF HEALTH/MENTAL HYGIENE</td>\n",
       "      <td>Internal</td>\n",
       "      <td>ECONOMIST</td>\n",
       "      <td>Finance, Accounting, &amp; Procurement</td>\n",
       "      <td>42288.0</td>\n",
       "      <td>59400.0</td>\n",
       "      <td>04-12-22</td>\n",
       "      <td>50844.0</td>\n",
       "    </tr>\n",
       "    <tr>\n",
       "      <th>3772</th>\n",
       "      <td>478739</td>\n",
       "      <td>HUMAN RIGHTS COMMISSION</td>\n",
       "      <td>External</td>\n",
       "      <td>AGENCY ATTORNEY INTERNE</td>\n",
       "      <td>Legal Affairs</td>\n",
       "      <td>62397.0</td>\n",
       "      <td>71757.0</td>\n",
       "      <td>04-12-22</td>\n",
       "      <td>67077.0</td>\n",
       "    </tr>\n",
       "  </tbody>\n",
       "</table>\n",
       "<p>3773 rows × 9 columns</p>\n",
       "</div>"
      ],
      "text/plain": [
       "      Job ID                          Agency Posting Type  \\\n",
       "0     424339   DEPT OF HEALTH/MENTAL HYGIENE     External   \n",
       "1     379094    NYC EMPLOYEES RETIREMENT SYS     External   \n",
       "2     520417           NYC HOUSING AUTHORITY     External   \n",
       "3     233549    NYC EMPLOYEES RETIREMENT SYS     External   \n",
       "4     510256         HUMAN RIGHTS COMMISSION     External   \n",
       "...      ...                             ...          ...   \n",
       "3768  457839    NYC EMPLOYEES RETIREMENT SYS     Internal   \n",
       "3769  527141  HOUSING PRESERVATION & DVLPMNT     Internal   \n",
       "3770  509443      FINANCIAL INFO SVCS AGENCY     Internal   \n",
       "3771  352367   DEPT OF HEALTH/MENTAL HYGIENE     Internal   \n",
       "3772  478739         HUMAN RIGHTS COMMISSION     External   \n",
       "\n",
       "                 Civil Service Title  \\\n",
       "0                PUBLIC HEALTH NURSE   \n",
       "1            CERT IT DEVELOPER (APP)   \n",
       "2           EXECUTIVE AGENCY COUNSEL   \n",
       "3     CERTIFIED IT ADMINISTRATOR (LA   \n",
       "4     ASSOCIATE HUMAN RIGHTS SPECIAL   \n",
       "...                              ...   \n",
       "3768  CERTIFIED IT ADMINISTRATOR (LA   \n",
       "3769   ASSOCIATE HOUSING DEVELOPMENT   \n",
       "3770             SENIOR IT ARCHITECT   \n",
       "3771                       ECONOMIST   \n",
       "3772         AGENCY ATTORNEY INTERNE   \n",
       "\n",
       "                                     Job Category  Salary Range From  \\\n",
       "0                                          Health            84252.0   \n",
       "1                   Technology, Data & Innovation            82884.0   \n",
       "2                                   Legal Affairs           105000.0   \n",
       "3     Information Technology & Telecommunications            87203.0   \n",
       "4       Constituent Services & Community Programs            58449.0   \n",
       "...                                           ...                ...   \n",
       "3768                Technology, Data & Innovation            85371.0   \n",
       "3769        Engineering, Architecture, & Planning            74650.0   \n",
       "3770                Technology, Data & Innovation           100000.0   \n",
       "3771           Finance, Accounting, & Procurement            42288.0   \n",
       "3772                                Legal Affairs            62397.0   \n",
       "\n",
       "      Salary Range To Process Date  Salary Avg.  \n",
       "0             84252.0     04-12-22      84252.0  \n",
       "1            116391.0     04-12-22      99637.5  \n",
       "2            125000.0     04-12-22     115000.0  \n",
       "3            131623.0     04-12-22     109413.0  \n",
       "4             67216.0     04-12-22      62832.5  \n",
       "...               ...          ...          ...  \n",
       "3768         119883.0     04-12-22     102627.0  \n",
       "3769          85847.0     04-12-22      80248.5  \n",
       "3770         115000.0     04-12-22     107500.0  \n",
       "3771          59400.0     04-12-22      50844.0  \n",
       "3772          71757.0     04-12-22      67077.0  \n",
       "\n",
       "[3773 rows x 9 columns]"
      ]
     },
     "execution_count": 21,
     "metadata": {},
     "output_type": "execute_result"
    }
   ],
   "source": [
    "# Test 2.2: adding output in original df\n",
    "data['Salary Avg.'] = data[['Salary Range From', 'Salary Range To']].apply(np.mean, axis=1)\n",
    "data"
   ]
  },
  {
   "cell_type": "code",
   "execution_count": null,
   "id": "2b3f6b0c",
   "metadata": {},
   "outputs": [],
   "source": []
  }
 ],
 "metadata": {
  "kernelspec": {
   "display_name": "Python 3 (ipykernel)",
   "language": "python",
   "name": "python3"
  },
  "language_info": {
   "codemirror_mode": {
    "name": "ipython",
    "version": 3
   },
   "file_extension": ".py",
   "mimetype": "text/x-python",
   "name": "python",
   "nbconvert_exporter": "python",
   "pygments_lexer": "ipython3",
   "version": "3.10.7"
  }
 },
 "nbformat": 4,
 "nbformat_minor": 5
}
