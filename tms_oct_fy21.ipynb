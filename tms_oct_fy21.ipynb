{
 "cells": [
  {
   "cell_type": "code",
   "execution_count": 4,
   "id": "c6d66587",
   "metadata": {},
   "outputs": [],
   "source": [
    "import pandas as pd\n",
    "import seaborn as sns\n",
    "import matplotlib.pyplot as plt\n",
    "\n",
    "from glob import glob # glob is a fun for merging multiple files "
   ]
  },
  {
   "cell_type": "markdown",
   "id": "36cea3c2",
   "metadata": {},
   "source": [
    "### Load data"
   ]
  },
  {
   "cell_type": "code",
   "execution_count": 5,
   "id": "7ad51618",
   "metadata": {},
   "outputs": [
    {
     "data": {
      "text/plain": [
       "['D:\\\\M48\\\\Dataset-EDA\\\\dataset_oct_23\\\\sales_trader_oct_23_cable.xlsx',\n",
       " 'D:\\\\M48\\\\Dataset-EDA\\\\dataset_oct_23\\\\sales_trader_oct_23_fan.xlsx']"
      ]
     },
     "execution_count": 5,
     "metadata": {},
     "output_type": "execute_result"
    }
   ],
   "source": [
    "# the word 'sales' is first part of file name\n",
    "files = glob(\"D:\\M48\\Dataset-EDA\\dataset_oct_23/sales*\")  # path external folder\n",
    "files"
   ]
  },
  {
   "cell_type": "code",
   "execution_count": 6,
   "id": "c2747f03",
   "metadata": {},
   "outputs": [
    {
     "data": {
      "text/plain": [
       "['D:\\\\M48\\\\Dataset-EDA\\\\dataset_oct_23\\\\sales_trader_oct_23_cable.xlsx',\n",
       " 'D:\\\\M48\\\\Dataset-EDA\\\\dataset_oct_23\\\\sales_trader_oct_23_fan.xlsx']"
      ]
     },
     "execution_count": 6,
     "metadata": {},
     "output_type": "execute_result"
    }
   ],
   "source": [
    "files.sort() # File sorting\n",
    "files"
   ]
  },
  {
   "cell_type": "code",
   "execution_count": 9,
   "id": "906527d3",
   "metadata": {},
   "outputs": [
    {
     "data": {
      "text/html": [
       "<div>\n",
       "<style scoped>\n",
       "    .dataframe tbody tr th:only-of-type {\n",
       "        vertical-align: middle;\n",
       "    }\n",
       "\n",
       "    .dataframe tbody tr th {\n",
       "        vertical-align: top;\n",
       "    }\n",
       "\n",
       "    .dataframe thead th {\n",
       "        text-align: right;\n",
       "    }\n",
       "</style>\n",
       "<table border=\"1\" class=\"dataframe\">\n",
       "  <thead>\n",
       "    <tr style=\"text-align: right;\">\n",
       "      <th></th>\n",
       "      <th>SL.</th>\n",
       "      <th>Trader's Name</th>\n",
       "      <th>Party Type</th>\n",
       "      <th>Trader's Address</th>\n",
       "      <th>Outstanding</th>\n",
       "      <th>Sales (BDT.)</th>\n",
       "      <th>Sales Return (BDT.)</th>\n",
       "      <th>Collection (BDT.)</th>\n",
       "      <th>Current Outstanding(BDT.)</th>\n",
       "      <th>Branch_name</th>\n",
       "      <th>product_id</th>\n",
       "      <th>date</th>\n",
       "    </tr>\n",
       "  </thead>\n",
       "  <tbody>\n",
       "    <tr>\n",
       "      <th>0</th>\n",
       "      <td>12.0</td>\n",
       "      <td>Arif Electric House</td>\n",
       "      <td>Traders</td>\n",
       "      <td>Fozor Ali Market,Baroipara,Ashulia.</td>\n",
       "      <td>142616.87</td>\n",
       "      <td>57447.28</td>\n",
       "      <td>0.0</td>\n",
       "      <td>0.0</td>\n",
       "      <td>200064.15</td>\n",
       "      <td>Ashulia Sales Center</td>\n",
       "      <td>10.0</td>\n",
       "      <td>2023-10-31</td>\n",
       "    </tr>\n",
       "    <tr>\n",
       "      <th>1</th>\n",
       "      <td>16.0</td>\n",
       "      <td>Bekash Electric &amp; Electronics (Akter)</td>\n",
       "      <td>Traders</td>\n",
       "      <td>South Gazirchat, Ashulia</td>\n",
       "      <td>205542.45</td>\n",
       "      <td>182655.44</td>\n",
       "      <td>0.0</td>\n",
       "      <td>75000.0</td>\n",
       "      <td>313197.89</td>\n",
       "      <td>Ashulia Sales Center</td>\n",
       "      <td>10.0</td>\n",
       "      <td>2023-10-31</td>\n",
       "    </tr>\n",
       "    <tr>\n",
       "      <th>2</th>\n",
       "      <td>17.0</td>\n",
       "      <td>Bhai Bhai Electric Sales &amp; Service (Jamgora)</td>\n",
       "      <td>Traders</td>\n",
       "      <td>Chowdhury Market,Chowrasta,Jamgora,Ashulia.</td>\n",
       "      <td>523425.24</td>\n",
       "      <td>140521.72</td>\n",
       "      <td>0.0</td>\n",
       "      <td>140522.0</td>\n",
       "      <td>523424.96</td>\n",
       "      <td>Ashulia Sales Center</td>\n",
       "      <td>10.0</td>\n",
       "      <td>2023-10-31</td>\n",
       "    </tr>\n",
       "    <tr>\n",
       "      <th>3</th>\n",
       "      <td>20.0</td>\n",
       "      <td>Chandpur Electric Service (Jamgora)</td>\n",
       "      <td>Traders</td>\n",
       "      <td>Chowrasta,Jamgora,Ashulia.</td>\n",
       "      <td>-18640.95</td>\n",
       "      <td>423430.21</td>\n",
       "      <td>0.0</td>\n",
       "      <td>405354.0</td>\n",
       "      <td>-564.74</td>\n",
       "      <td>Ashulia Sales Center</td>\n",
       "      <td>10.0</td>\n",
       "      <td>2023-10-31</td>\n",
       "    </tr>\n",
       "    <tr>\n",
       "      <th>4</th>\n",
       "      <td>21.0</td>\n",
       "      <td>Chandpur Electric(Polashbari)</td>\n",
       "      <td>Traders</td>\n",
       "      <td>Bot tola Road,Polashbari.</td>\n",
       "      <td>-64.72</td>\n",
       "      <td>981224.44</td>\n",
       "      <td>0.0</td>\n",
       "      <td>807489.0</td>\n",
       "      <td>173670.72</td>\n",
       "      <td>Ashulia Sales Center</td>\n",
       "      <td>10.0</td>\n",
       "      <td>2023-10-31</td>\n",
       "    </tr>\n",
       "  </tbody>\n",
       "</table>\n",
       "</div>"
      ],
      "text/plain": [
       "    SL.                                 Trader's Name Party Type  \\\n",
       "0  12.0                           Arif Electric House    Traders   \n",
       "1  16.0         Bekash Electric & Electronics (Akter)    Traders   \n",
       "2  17.0  Bhai Bhai Electric Sales & Service (Jamgora)    Traders   \n",
       "3  20.0           Chandpur Electric Service (Jamgora)    Traders   \n",
       "4  21.0                 Chandpur Electric(Polashbari)    Traders   \n",
       "\n",
       "                              Trader's Address  Outstanding  Sales (BDT.)  \\\n",
       "0          Fozor Ali Market,Baroipara,Ashulia.    142616.87      57447.28   \n",
       "1                     South Gazirchat, Ashulia    205542.45     182655.44   \n",
       "2  Chowdhury Market,Chowrasta,Jamgora,Ashulia.    523425.24     140521.72   \n",
       "3                   Chowrasta,Jamgora,Ashulia.    -18640.95     423430.21   \n",
       "4                    Bot tola Road,Polashbari.       -64.72     981224.44   \n",
       "\n",
       "   Sales Return (BDT.)  Collection (BDT.)  Current Outstanding(BDT.)  \\\n",
       "0                  0.0                0.0                  200064.15   \n",
       "1                  0.0            75000.0                  313197.89   \n",
       "2                  0.0           140522.0                  523424.96   \n",
       "3                  0.0           405354.0                    -564.74   \n",
       "4                  0.0           807489.0                  173670.72   \n",
       "\n",
       "            Branch_name  product_id       date  \n",
       "0  Ashulia Sales Center        10.0 2023-10-31  \n",
       "1  Ashulia Sales Center        10.0 2023-10-31  \n",
       "2  Ashulia Sales Center        10.0 2023-10-31  \n",
       "3  Ashulia Sales Center        10.0 2023-10-31  \n",
       "4  Ashulia Sales Center        10.0 2023-10-31  "
      ]
     },
     "execution_count": 9,
     "metadata": {},
     "output_type": "execute_result"
    }
   ],
   "source": [
    "# Concat all in a single file\n",
    "df_org = pd.concat((pd.read_excel(file) for file in files), ignore_index=True) \n",
    "df_org.head()"
   ]
  },
  {
   "cell_type": "code",
   "execution_count": 10,
   "id": "3c90e4e9",
   "metadata": {},
   "outputs": [
    {
     "data": {
      "text/plain": [
       "(4924, 12)"
      ]
     },
     "execution_count": 10,
     "metadata": {},
     "output_type": "execute_result"
    }
   ],
   "source": [
    "df_org.shape"
   ]
  },
  {
   "cell_type": "code",
   "execution_count": 11,
   "id": "f052b168",
   "metadata": {},
   "outputs": [
    {
     "name": "stdout",
     "output_type": "stream",
     "text": [
      "<class 'pandas.core.frame.DataFrame'>\n",
      "RangeIndex: 4924 entries, 0 to 4923\n",
      "Data columns (total 12 columns):\n",
      " #   Column                     Non-Null Count  Dtype         \n",
      "---  ------                     --------------  -----         \n",
      " 0   SL.                        1606 non-null   float64       \n",
      " 1   Trader's Name              1606 non-null   object        \n",
      " 2   Party Type                 1606 non-null   object        \n",
      " 3   Trader's Address           1604 non-null   object        \n",
      " 4   Outstanding                1606 non-null   float64       \n",
      " 5   Sales (BDT.)               1606 non-null   float64       \n",
      " 6   Sales Return (BDT.)        1606 non-null   float64       \n",
      " 7   Collection (BDT.)          1606 non-null   float64       \n",
      " 8   Current Outstanding(BDT.)  1606 non-null   float64       \n",
      " 9   Branch_name                1602 non-null   object        \n",
      " 10  product_id                 1544 non-null   float64       \n",
      " 11  date                       1544 non-null   datetime64[ns]\n",
      "dtypes: datetime64[ns](1), float64(7), object(4)\n",
      "memory usage: 461.8+ KB\n"
     ]
    }
   ],
   "source": [
    "df_org.info()"
   ]
  },
  {
   "cell_type": "markdown",
   "id": "a49bd909",
   "metadata": {},
   "source": [
    "### Check EDA factors"
   ]
  },
  {
   "cell_type": "markdown",
   "id": "2af2835f",
   "metadata": {},
   "source": [
    "- product id missing \n",
    "- pid coversion\n",
    "- drop sl"
   ]
  },
  {
   "cell_type": "code",
   "execution_count": null,
   "id": "ed618139",
   "metadata": {},
   "outputs": [],
   "source": []
  }
 ],
 "metadata": {
  "kernelspec": {
   "display_name": "Python 3 (ipykernel)",
   "language": "python",
   "name": "python3"
  },
  "language_info": {
   "codemirror_mode": {
    "name": "ipython",
    "version": 3
   },
   "file_extension": ".py",
   "mimetype": "text/x-python",
   "name": "python",
   "nbconvert_exporter": "python",
   "pygments_lexer": "ipython3",
   "version": "3.11.4"
  }
 },
 "nbformat": 4,
 "nbformat_minor": 5
}
