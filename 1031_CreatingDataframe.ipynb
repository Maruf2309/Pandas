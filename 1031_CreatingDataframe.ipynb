{
 "cells": [
  {
   "cell_type": "markdown",
   "id": "8e6c0334",
   "metadata": {},
   "source": [
    "# Different Ways Creating DataFrame"
   ]
  },
  {
   "cell_type": "markdown",
   "id": "1476b6e4",
   "metadata": {},
   "source": [
    "- Ref 1030"
   ]
  },
  {
   "cell_type": "markdown",
   "id": "bc7141e9",
   "metadata": {},
   "source": [
    "- Ranom\n",
    "- Function with random\n",
    "- Built-in-dataset\n",
    "- Dictionary \n",
    "- Tuple"
   ]
  },
  {
   "cell_type": "markdown",
   "id": "2c454233",
   "metadata": {},
   "source": [
    "### Import Libraries"
   ]
  },
  {
   "cell_type": "code",
   "execution_count": 19,
   "id": "e4cb7194",
   "metadata": {},
   "outputs": [],
   "source": [
    "import pandas as pd\n",
    "import numpy as np\n",
    "import seaborn as sns"
   ]
  },
  {
   "cell_type": "markdown",
   "id": "191fb4e4",
   "metadata": {},
   "source": [
    "# Method 1 : Random Method"
   ]
  },
  {
   "cell_type": "code",
   "execution_count": 2,
   "id": "af517167",
   "metadata": {},
   "outputs": [],
   "source": [
    "# Method 1\n",
    "df = pd.DataFrame()         # Object Creation \n",
    "size = 10_000"
   ]
  },
  {
   "cell_type": "code",
   "execution_count": 5,
   "id": "cc25ea07",
   "metadata": {},
   "outputs": [
    {
     "data": {
      "text/html": [
       "<div>\n",
       "<style scoped>\n",
       "    .dataframe tbody tr th:only-of-type {\n",
       "        vertical-align: middle;\n",
       "    }\n",
       "\n",
       "    .dataframe tbody tr th {\n",
       "        vertical-align: top;\n",
       "    }\n",
       "\n",
       "    .dataframe thead th {\n",
       "        text-align: right;\n",
       "    }\n",
       "</style>\n",
       "<table border=\"1\" class=\"dataframe\">\n",
       "  <thead>\n",
       "    <tr style=\"text-align: right;\">\n",
       "      <th></th>\n",
       "      <th>age</th>\n",
       "      <th>time_in_bed</th>\n",
       "      <th>pct_sleeping</th>\n",
       "      <th>fav_food</th>\n",
       "      <th>dislike_food</th>\n",
       "    </tr>\n",
       "  </thead>\n",
       "  <tbody>\n",
       "    <tr>\n",
       "      <th>0</th>\n",
       "      <td>69</td>\n",
       "      <td>6</td>\n",
       "      <td>0.516822</td>\n",
       "      <td>Ice-Cream</td>\n",
       "      <td>candy</td>\n",
       "    </tr>\n",
       "    <tr>\n",
       "      <th>1</th>\n",
       "      <td>20</td>\n",
       "      <td>3</td>\n",
       "      <td>0.737006</td>\n",
       "      <td>Ice-Cream</td>\n",
       "      <td>candy</td>\n",
       "    </tr>\n",
       "    <tr>\n",
       "      <th>2</th>\n",
       "      <td>48</td>\n",
       "      <td>2</td>\n",
       "      <td>0.362017</td>\n",
       "      <td>Ice-Cream</td>\n",
       "      <td>candy</td>\n",
       "    </tr>\n",
       "    <tr>\n",
       "      <th>3</th>\n",
       "      <td>95</td>\n",
       "      <td>4</td>\n",
       "      <td>0.656225</td>\n",
       "      <td>Ice-Cream</td>\n",
       "      <td>candy</td>\n",
       "    </tr>\n",
       "    <tr>\n",
       "      <th>4</th>\n",
       "      <td>1</td>\n",
       "      <td>1</td>\n",
       "      <td>0.929960</td>\n",
       "      <td>Ice-Cream</td>\n",
       "      <td>candy</td>\n",
       "    </tr>\n",
       "  </tbody>\n",
       "</table>\n",
       "</div>"
      ],
      "text/plain": [
       "   age  time_in_bed  pct_sleeping   fav_food dislike_food\n",
       "0   69            6      0.516822  Ice-Cream        candy\n",
       "1   20            3      0.737006  Ice-Cream        candy\n",
       "2   48            2      0.362017  Ice-Cream        candy\n",
       "3   95            4      0.656225  Ice-Cream        candy\n",
       "4    1            1      0.929960  Ice-Cream        candy"
      ]
     },
     "execution_count": 5,
     "metadata": {},
     "output_type": "execute_result"
    }
   ],
   "source": [
    "# Building Columns - Random\n",
    "df['age'] = np.random.randint(0, 100, size)          # Min Age 0, Max Age 100, 10 data points\n",
    "df['time_in_bed'] = np.random.randint(0,9, size)     # 0 to 9 hours for sleeping\n",
    "df['pct_sleeping'] = np.random.rand(size)            # rand used for %, fraction\n",
    "df['fav_food'] = np.random.choice(['Pizza','Burger','Sandwitch','Ice-Cream'])\n",
    "df['dislike_food'] = np.random.choice(['candy','chips', 'Chanachur','drinks'])\n",
    "df.head()"
   ]
  },
  {
   "cell_type": "markdown",
   "id": "3835017b",
   "metadata": {},
   "source": [
    "# Method - 2"
   ]
  },
  {
   "cell_type": "code",
   "execution_count": 28,
   "id": "393ac7b6",
   "metadata": {},
   "outputs": [
    {
     "data": {
      "text/html": [
       "<div>\n",
       "<style scoped>\n",
       "    .dataframe tbody tr th:only-of-type {\n",
       "        vertical-align: middle;\n",
       "    }\n",
       "\n",
       "    .dataframe tbody tr th {\n",
       "        vertical-align: top;\n",
       "    }\n",
       "\n",
       "    .dataframe thead th {\n",
       "        text-align: right;\n",
       "    }\n",
       "</style>\n",
       "<table border=\"1\" class=\"dataframe\">\n",
       "  <thead>\n",
       "    <tr style=\"text-align: right;\">\n",
       "      <th></th>\n",
       "      <th>age</th>\n",
       "      <th>time_in_bed</th>\n",
       "      <th>pct_sleeping</th>\n",
       "      <th>fav_food</th>\n",
       "      <th>dislike_food</th>\n",
       "    </tr>\n",
       "  </thead>\n",
       "  <tbody>\n",
       "    <tr>\n",
       "      <th>0</th>\n",
       "      <td>12</td>\n",
       "      <td>6</td>\n",
       "      <td>0.553434</td>\n",
       "      <td>Sandwitch</td>\n",
       "      <td>Brief</td>\n",
       "    </tr>\n",
       "    <tr>\n",
       "      <th>1</th>\n",
       "      <td>29</td>\n",
       "      <td>3</td>\n",
       "      <td>0.988985</td>\n",
       "      <td>Sandwitch</td>\n",
       "      <td>Brief</td>\n",
       "    </tr>\n",
       "    <tr>\n",
       "      <th>2</th>\n",
       "      <td>71</td>\n",
       "      <td>9</td>\n",
       "      <td>0.008829</td>\n",
       "      <td>Sandwitch</td>\n",
       "      <td>Brief</td>\n",
       "    </tr>\n",
       "    <tr>\n",
       "      <th>3</th>\n",
       "      <td>93</td>\n",
       "      <td>1</td>\n",
       "      <td>0.245304</td>\n",
       "      <td>Sandwitch</td>\n",
       "      <td>Brief</td>\n",
       "    </tr>\n",
       "    <tr>\n",
       "      <th>4</th>\n",
       "      <td>56</td>\n",
       "      <td>9</td>\n",
       "      <td>0.869873</td>\n",
       "      <td>Sandwitch</td>\n",
       "      <td>Brief</td>\n",
       "    </tr>\n",
       "    <tr>\n",
       "      <th>...</th>\n",
       "      <td>...</td>\n",
       "      <td>...</td>\n",
       "      <td>...</td>\n",
       "      <td>...</td>\n",
       "      <td>...</td>\n",
       "    </tr>\n",
       "    <tr>\n",
       "      <th>9995</th>\n",
       "      <td>2</td>\n",
       "      <td>2</td>\n",
       "      <td>0.724227</td>\n",
       "      <td>Sandwitch</td>\n",
       "      <td>Brief</td>\n",
       "    </tr>\n",
       "    <tr>\n",
       "      <th>9996</th>\n",
       "      <td>48</td>\n",
       "      <td>9</td>\n",
       "      <td>0.544815</td>\n",
       "      <td>Sandwitch</td>\n",
       "      <td>Brief</td>\n",
       "    </tr>\n",
       "    <tr>\n",
       "      <th>9997</th>\n",
       "      <td>8</td>\n",
       "      <td>4</td>\n",
       "      <td>0.157482</td>\n",
       "      <td>Sandwitch</td>\n",
       "      <td>Brief</td>\n",
       "    </tr>\n",
       "    <tr>\n",
       "      <th>9998</th>\n",
       "      <td>46</td>\n",
       "      <td>4</td>\n",
       "      <td>0.145055</td>\n",
       "      <td>Sandwitch</td>\n",
       "      <td>Brief</td>\n",
       "    </tr>\n",
       "    <tr>\n",
       "      <th>9999</th>\n",
       "      <td>20</td>\n",
       "      <td>2</td>\n",
       "      <td>0.468968</td>\n",
       "      <td>Sandwitch</td>\n",
       "      <td>Brief</td>\n",
       "    </tr>\n",
       "  </tbody>\n",
       "</table>\n",
       "<p>10000 rows × 5 columns</p>\n",
       "</div>"
      ],
      "text/plain": [
       "      age  time_in_bed  pct_sleeping   fav_food dislike_food\n",
       "0      12            6      0.553434  Sandwitch        Brief\n",
       "1      29            3      0.988985  Sandwitch        Brief\n",
       "2      71            9      0.008829  Sandwitch        Brief\n",
       "3      93            1      0.245304  Sandwitch        Brief\n",
       "4      56            9      0.869873  Sandwitch        Brief\n",
       "...   ...          ...           ...        ...          ...\n",
       "9995    2            2      0.724227  Sandwitch        Brief\n",
       "9996   48            9      0.544815  Sandwitch        Brief\n",
       "9997    8            4      0.157482  Sandwitch        Brief\n",
       "9998   46            4      0.145055  Sandwitch        Brief\n",
       "9999   20            2      0.468968  Sandwitch        Brief\n",
       "\n",
       "[10000 rows x 5 columns]"
      ]
     },
     "execution_count": 28,
     "metadata": {},
     "output_type": "execute_result"
    }
   ],
   "source": [
    "# Function with Random\n",
    "def get_data(size = 10_000):\n",
    "    df1 = pd.DataFrame()\n",
    "    df1 ['age'] = np.random.randint(0,95, size)\n",
    "    df1 ['time_in_bed'] = np.random.randint(0,10,size)\n",
    "    df1 ['pct_sleeping'] = np.random.rand(size)\n",
    "    df1 ['fav_food'] = np.random.choice(['Pizza','Burger','Sandwitch','Water Melan'])\n",
    "    df1 ['dislike_food'] = np.random.choice(['Tomatoo','Brief','Soft Drink','Brean'])\n",
    "    \n",
    "    return df1\n",
    "\n",
    "get_data() "
   ]
  },
  {
   "cell_type": "markdown",
   "id": "1280b442",
   "metadata": {},
   "source": [
    "# Method 3: Built-In Dataset"
   ]
  },
  {
   "cell_type": "code",
   "execution_count": 20,
   "id": "de0b6108",
   "metadata": {},
   "outputs": [
    {
     "name": "stdout",
     "output_type": "stream",
     "text": [
      "['anagrams', 'anscombe', 'attention', 'brain_networks', 'car_crashes', 'diamonds', 'dots', 'dowjones', 'exercise', 'flights', 'fmri', 'geyser', 'glue', 'healthexp', 'iris', 'mpg', 'penguins', 'planets', 'seaice', 'taxis', 'tips', 'titanic']\n"
     ]
    }
   ],
   "source": [
    "# See Available Built-In Dataset\n",
    "print(sns.get_dataset_names())"
   ]
  },
  {
   "cell_type": "code",
   "execution_count": 21,
   "id": "582754ca",
   "metadata": {},
   "outputs": [
    {
     "data": {
      "text/html": [
       "<div>\n",
       "<style scoped>\n",
       "    .dataframe tbody tr th:only-of-type {\n",
       "        vertical-align: middle;\n",
       "    }\n",
       "\n",
       "    .dataframe tbody tr th {\n",
       "        vertical-align: top;\n",
       "    }\n",
       "\n",
       "    .dataframe thead th {\n",
       "        text-align: right;\n",
       "    }\n",
       "</style>\n",
       "<table border=\"1\" class=\"dataframe\">\n",
       "  <thead>\n",
       "    <tr style=\"text-align: right;\">\n",
       "      <th></th>\n",
       "      <th>sepal_length</th>\n",
       "      <th>sepal_width</th>\n",
       "      <th>petal_length</th>\n",
       "      <th>petal_width</th>\n",
       "      <th>species</th>\n",
       "    </tr>\n",
       "  </thead>\n",
       "  <tbody>\n",
       "    <tr>\n",
       "      <th>0</th>\n",
       "      <td>5.1</td>\n",
       "      <td>3.5</td>\n",
       "      <td>1.4</td>\n",
       "      <td>0.2</td>\n",
       "      <td>setosa</td>\n",
       "    </tr>\n",
       "    <tr>\n",
       "      <th>1</th>\n",
       "      <td>4.9</td>\n",
       "      <td>3.0</td>\n",
       "      <td>1.4</td>\n",
       "      <td>0.2</td>\n",
       "      <td>setosa</td>\n",
       "    </tr>\n",
       "    <tr>\n",
       "      <th>2</th>\n",
       "      <td>4.7</td>\n",
       "      <td>3.2</td>\n",
       "      <td>1.3</td>\n",
       "      <td>0.2</td>\n",
       "      <td>setosa</td>\n",
       "    </tr>\n",
       "    <tr>\n",
       "      <th>3</th>\n",
       "      <td>4.6</td>\n",
       "      <td>3.1</td>\n",
       "      <td>1.5</td>\n",
       "      <td>0.2</td>\n",
       "      <td>setosa</td>\n",
       "    </tr>\n",
       "    <tr>\n",
       "      <th>4</th>\n",
       "      <td>5.0</td>\n",
       "      <td>3.6</td>\n",
       "      <td>1.4</td>\n",
       "      <td>0.2</td>\n",
       "      <td>setosa</td>\n",
       "    </tr>\n",
       "  </tbody>\n",
       "</table>\n",
       "</div>"
      ],
      "text/plain": [
       "   sepal_length  sepal_width  petal_length  petal_width species\n",
       "0           5.1          3.5           1.4          0.2  setosa\n",
       "1           4.9          3.0           1.4          0.2  setosa\n",
       "2           4.7          3.2           1.3          0.2  setosa\n",
       "3           4.6          3.1           1.5          0.2  setosa\n",
       "4           5.0          3.6           1.4          0.2  setosa"
      ]
     },
     "execution_count": 21,
     "metadata": {},
     "output_type": "execute_result"
    }
   ],
   "source": [
    "df = sns.load_dataset('iris')\n",
    "df.head()"
   ]
  },
  {
   "cell_type": "markdown",
   "id": "1fa3abe6",
   "metadata": {},
   "source": [
    "# Method 4: Dictionary"
   ]
  },
  {
   "cell_type": "code",
   "execution_count": 25,
   "id": "29ebc503",
   "metadata": {},
   "outputs": [
    {
     "data": {
      "text/html": [
       "<div>\n",
       "<style scoped>\n",
       "    .dataframe tbody tr th:only-of-type {\n",
       "        vertical-align: middle;\n",
       "    }\n",
       "\n",
       "    .dataframe tbody tr th {\n",
       "        vertical-align: top;\n",
       "    }\n",
       "\n",
       "    .dataframe thead th {\n",
       "        text-align: right;\n",
       "    }\n",
       "</style>\n",
       "<table border=\"1\" class=\"dataframe\">\n",
       "  <thead>\n",
       "    <tr style=\"text-align: right;\">\n",
       "      <th></th>\n",
       "      <th>day</th>\n",
       "      <th>temperature</th>\n",
       "      <th>windspeed</th>\n",
       "      <th>event</th>\n",
       "    </tr>\n",
       "  </thead>\n",
       "  <tbody>\n",
       "    <tr>\n",
       "      <th>0</th>\n",
       "      <td>2022-11-01</td>\n",
       "      <td>26</td>\n",
       "      <td>2</td>\n",
       "      <td>Rainy</td>\n",
       "    </tr>\n",
       "    <tr>\n",
       "      <th>1</th>\n",
       "      <td>2022-11-02</td>\n",
       "      <td>36</td>\n",
       "      <td>5</td>\n",
       "      <td>Sunny</td>\n",
       "    </tr>\n",
       "    <tr>\n",
       "      <th>2</th>\n",
       "      <td>2022-11-03</td>\n",
       "      <td>27</td>\n",
       "      <td>7</td>\n",
       "      <td>Snow</td>\n",
       "    </tr>\n",
       "  </tbody>\n",
       "</table>\n",
       "</div>"
      ],
      "text/plain": [
       "          day  temperature  windspeed  event\n",
       "0  2022-11-01           26          2  Rainy\n",
       "1  2022-11-02           36          5  Sunny\n",
       "2  2022-11-03           27          7   Snow"
      ]
     },
     "execution_count": 25,
     "metadata": {},
     "output_type": "execute_result"
    }
   ],
   "source": [
    "# Python Dictionary\n",
    "weather_data = {\n",
    "    'day': ['2022-11-01','2022-11-02','2022-11-03'],\n",
    "    'temperature': [26,36,27],\n",
    "    'windspeed':[2,5,7],\n",
    "    'event':['Rainy','Sunny','Snow']\n",
    "}\n",
    "\n",
    "df3 = pd.DataFrame(weather_data)\n",
    "df3"
   ]
  },
  {
   "cell_type": "code",
   "execution_count": 26,
   "id": "01d6252c",
   "metadata": {},
   "outputs": [
    {
     "data": {
      "text/html": [
       "<div>\n",
       "<style scoped>\n",
       "    .dataframe tbody tr th:only-of-type {\n",
       "        vertical-align: middle;\n",
       "    }\n",
       "\n",
       "    .dataframe tbody tr th {\n",
       "        vertical-align: top;\n",
       "    }\n",
       "\n",
       "    .dataframe thead th {\n",
       "        text-align: right;\n",
       "    }\n",
       "</style>\n",
       "<table border=\"1\" class=\"dataframe\">\n",
       "  <thead>\n",
       "    <tr style=\"text-align: right;\">\n",
       "      <th></th>\n",
       "      <th>Day</th>\n",
       "      <th>Temperature</th>\n",
       "      <th>Windspeed</th>\n",
       "      <th>Event</th>\n",
       "    </tr>\n",
       "  </thead>\n",
       "  <tbody>\n",
       "    <tr>\n",
       "      <th>0</th>\n",
       "      <td>2022-11-01</td>\n",
       "      <td>32</td>\n",
       "      <td>6</td>\n",
       "      <td>Rainy</td>\n",
       "    </tr>\n",
       "    <tr>\n",
       "      <th>1</th>\n",
       "      <td>2022-11-03</td>\n",
       "      <td>35</td>\n",
       "      <td>5</td>\n",
       "      <td>Snow</td>\n",
       "    </tr>\n",
       "    <tr>\n",
       "      <th>2</th>\n",
       "      <td>2022-11-05</td>\n",
       "      <td>28</td>\n",
       "      <td>3</td>\n",
       "      <td>Sunny</td>\n",
       "    </tr>\n",
       "  </tbody>\n",
       "</table>\n",
       "</div>"
      ],
      "text/plain": [
       "          Day  Temperature  Windspeed  Event\n",
       "0  2022-11-01           32          6  Rainy\n",
       "1  2022-11-03           35          5   Snow\n",
       "2  2022-11-05           28          3  Sunny"
      ]
     },
     "execution_count": 26,
     "metadata": {},
     "output_type": "execute_result"
    }
   ],
   "source": [
    "# Dictionary\n",
    "weather_data = [\n",
    "    {'Day': '2022-11-01', 'Temperature':32,'Windspeed':6,'Event':'Rainy'},\n",
    "    {'Day': '2022-11-03', 'Temperature':35,'Windspeed':5,'Event':'Snow'},\n",
    "    {'Day': '2022-11-05', 'Temperature':28,'Windspeed':3,'Event':'Sunny'},\n",
    "]\n",
    "df4 = pd.DataFrame(weather_data)\n",
    "df4"
   ]
  },
  {
   "cell_type": "markdown",
   "id": "eb56777e",
   "metadata": {},
   "source": [
    "# Method 5: Tuple"
   ]
  },
  {
   "cell_type": "code",
   "execution_count": 27,
   "id": "6e04a5d0",
   "metadata": {},
   "outputs": [
    {
     "data": {
      "text/html": [
       "<div>\n",
       "<style scoped>\n",
       "    .dataframe tbody tr th:only-of-type {\n",
       "        vertical-align: middle;\n",
       "    }\n",
       "\n",
       "    .dataframe tbody tr th {\n",
       "        vertical-align: top;\n",
       "    }\n",
       "\n",
       "    .dataframe thead th {\n",
       "        text-align: right;\n",
       "    }\n",
       "</style>\n",
       "<table border=\"1\" class=\"dataframe\">\n",
       "  <thead>\n",
       "    <tr style=\"text-align: right;\">\n",
       "      <th></th>\n",
       "      <th>Day</th>\n",
       "      <th>Temperature</th>\n",
       "      <th>Windspeed</th>\n",
       "      <th>Event</th>\n",
       "    </tr>\n",
       "  </thead>\n",
       "  <tbody>\n",
       "    <tr>\n",
       "      <th>0</th>\n",
       "      <td>2022-11-01</td>\n",
       "      <td>32</td>\n",
       "      <td>6</td>\n",
       "      <td>Rainy</td>\n",
       "    </tr>\n",
       "    <tr>\n",
       "      <th>1</th>\n",
       "      <td>2022-11-02</td>\n",
       "      <td>34</td>\n",
       "      <td>3</td>\n",
       "      <td>Rainy</td>\n",
       "    </tr>\n",
       "    <tr>\n",
       "      <th>2</th>\n",
       "      <td>2022-11-03</td>\n",
       "      <td>30</td>\n",
       "      <td>5</td>\n",
       "      <td>Rainy</td>\n",
       "    </tr>\n",
       "  </tbody>\n",
       "</table>\n",
       "</div>"
      ],
      "text/plain": [
       "          Day Temperature  Windspeed  Event\n",
       "0  2022-11-01          32          6  Rainy\n",
       "1  2022-11-02          34          3  Rainy\n",
       "2  2022-11-03          30          5  Rainy"
      ]
     },
     "execution_count": 27,
     "metadata": {},
     "output_type": "execute_result"
    }
   ],
   "source": [
    "weather_data = [\n",
    "    ('2022-11-01','32',6,'Rainy'),   \n",
    "    ('2022-11-02','34',3,'Rainy'),\n",
    "    ('2022-11-03','30',5,'Rainy')\n",
    "]\n",
    "df5 = pd.DataFrame(weather_data, columns=['Day','Temperature','Windspeed','Event'])  # In Tuple method, columns name must mentioned\n",
    "df5"
   ]
  },
  {
   "cell_type": "markdown",
   "id": "f18971a5",
   "metadata": {},
   "source": [
    "# Method 6: CSV & Excel"
   ]
  },
  {
   "cell_type": "code",
   "execution_count": 29,
   "id": "a91acabc",
   "metadata": {},
   "outputs": [],
   "source": [
    "# df = pd.read_excel('weather_data.xlsx','Sheet1')  # Sheet 1 is excel sheet name, since excel contain multiple sheet, so mentioing sheet name is must\n",
    "# df"
   ]
  }
 ],
 "metadata": {
  "kernelspec": {
   "display_name": "Python 3 (ipykernel)",
   "language": "python",
   "name": "python3"
  },
  "language_info": {
   "codemirror_mode": {
    "name": "ipython",
    "version": 3
   },
   "file_extension": ".py",
   "mimetype": "text/x-python",
   "name": "python",
   "nbconvert_exporter": "python",
   "pygments_lexer": "ipython3",
   "version": "3.9.7"
  }
 },
 "nbformat": 4,
 "nbformat_minor": 5
}
