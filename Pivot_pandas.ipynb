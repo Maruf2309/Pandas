{
  "nbformat": 4,
  "nbformat_minor": 0,
  "metadata": {
    "colab": {
      "provenance": []
    },
    "kernelspec": {
      "name": "python3",
      "display_name": "Python 3"
    },
    "language_info": {
      "name": "python"
    }
  },
  "cells": [
    {
      "cell_type": "markdown",
      "source": [],
      "metadata": {
        "id": "a29hrSDusSP3"
      }
    },
    {
      "cell_type": "code",
      "execution_count": 4,
      "metadata": {
        "colab": {
          "base_uri": "https://localhost:8080/"
        },
        "id": "MZtRVNHcsLsR",
        "outputId": "1402df29-8cbb-44e1-c6e0-75e327051ffc"
      },
      "outputs": [
        {
          "output_type": "stream",
          "name": "stdout",
          "text": [
            "City        Los Angeles  New York\n",
            "Date                             \n",
            "2023-01-01         75.0      32.0\n",
            "2023-01-02         77.0      30.0\n"
          ]
        }
      ],
      "source": [
        "import pandas as pd\n",
        "\n",
        "# Sample DataFrame\n",
        "data = {\n",
        "    'Date': ['2023-01-01', '2023-01-01', '2023-01-02', '2023-01-02'],\n",
        "    'City': ['New York', 'Los Angeles', 'New York', 'Los Angeles'],\n",
        "    'Temperature': [32, 75, 30, 77]\n",
        "}\n",
        "df = pd.DataFrame(data)\n",
        "# Creating a pivot table\n",
        "pivot_df = df.pivot_table(index='Date', columns='City', values='Temperature')\n",
        "print(pivot_df)\n"
      ]
    },
    {
      "cell_type": "code",
      "source": [
        "# Example 2: Pivot Table with Multiple Aggregation Functions\n",
        "import pandas as pd\n",
        "\n",
        "# Sample DataFrame\n",
        "data = {\n",
        "    'Product': ['A', 'B', 'A', 'B'],\n",
        "    'Sales': [100, 150, 200, 250],\n",
        "    'Quantity': [1, 2, 3, 4]\n",
        "}\n",
        "df = pd.DataFrame(data)\n",
        "\n",
        "# Creating a pivot table with multiple aggregation functions\n",
        "pivot_df = df.pivot_table(index='Product', values=['Sales', 'Quantity'], aggfunc={'Sales': 'sum', 'Quantity': 'mean'})\n",
        "print(pivot_df)\n"
      ],
      "metadata": {
        "colab": {
          "base_uri": "https://localhost:8080/"
        },
        "id": "AUw8WNyJsoYb",
        "outputId": "3678d51b-dc11-431c-cceb-80652d2778d7"
      },
      "execution_count": 5,
      "outputs": [
        {
          "output_type": "stream",
          "name": "stdout",
          "text": [
            "         Quantity  Sales\n",
            "Product                 \n",
            "A             2.0    300\n",
            "B             3.0    400\n"
          ]
        }
      ]
    },
    {
      "cell_type": "code",
      "source": [
        "#Example 3: Pivot Table with Multiple Indexes\n",
        "import pandas as pd\n",
        "\n",
        "# Sample DataFrame\n",
        "data = {\n",
        "    'Date': ['2023-01-01', '2023-01-01', '2023-01-02', '2023-01-02'],\n",
        "    'City': ['New York', 'Los Angeles', 'New York', 'Los Angeles'],\n",
        "    'Temperature': [32, 75, 30, 77],\n",
        "    'Humidity': [80, 10, 85, 5]\n",
        "}\n",
        "df = pd.DataFrame(data)\n",
        "\n",
        "# Creating a pivot table with multiple indexes\n",
        "pivot_df = df.pivot_table(index=['Date', 'City'], values=['Temperature', 'Humidity'])\n",
        "print(pivot_df)\n"
      ],
      "metadata": {
        "colab": {
          "base_uri": "https://localhost:8080/"
        },
        "id": "nmFD6ODes4Q_",
        "outputId": "4cb5e7c3-182f-40fb-a048-37e251656c56"
      },
      "execution_count": 6,
      "outputs": [
        {
          "output_type": "stream",
          "name": "stdout",
          "text": [
            "                        Humidity  Temperature\n",
            "Date       City                              \n",
            "2023-01-01 Los Angeles      10.0         75.0\n",
            "           New York         80.0         32.0\n",
            "2023-01-02 Los Angeles       5.0         77.0\n",
            "           New York         85.0         30.0\n"
          ]
        }
      ]
    },
    {
      "cell_type": "markdown",
      "source": [
        "## Np where"
      ],
      "metadata": {
        "id": "fM4R1eWJuZdq"
      }
    },
    {
      "cell_type": "code",
      "source": [
        "# Basic Use\n",
        "import numpy as np\n",
        "\n",
        "a = np.array([1, 2, 3, 4, 5])\n",
        "result = np.where(a > 3)\n",
        "print(a)\n",
        "print(result)  # Output: (array([3, 4]),)\n"
      ],
      "metadata": {
        "colab": {
          "base_uri": "https://localhost:8080/"
        },
        "id": "R688aFzruvr3",
        "outputId": "342181e5-ea68-42b4-ae16-41a5771b844e"
      },
      "execution_count": 9,
      "outputs": [
        {
          "output_type": "stream",
          "name": "stdout",
          "text": [
            "[1 2 3 4 5]\n",
            "(array([3, 4]),)\n"
          ]
        }
      ]
    },
    {
      "cell_type": "code",
      "source": [
        "# Replacing Values\n",
        "import numpy as np\n",
        "\n",
        "a = np.array([1, 2, 3, 4, 5])\n",
        "result = np.where(a > 3, a, -1)\n",
        "print(a)\n",
        "print(result)  # Output: [-1 -1 -1  4  5]\n"
      ],
      "metadata": {
        "colab": {
          "base_uri": "https://localhost:8080/"
        },
        "id": "COZVDF-quY6I",
        "outputId": "dba3916f-b3ca-46a7-9b96-132847f093fa"
      },
      "execution_count": 8,
      "outputs": [
        {
          "output_type": "stream",
          "name": "stdout",
          "text": [
            "[1 2 3 4 5]\n",
            "[-1 -1 -1  4  5]\n"
          ]
        }
      ]
    },
    {
      "cell_type": "code",
      "source": [
        "# Using with 2D Arrays\n",
        "import numpy as np\n",
        "\n",
        "a = np.array([[1, 2], [3, 4]])\n",
        "result = np.where(a > 2, a, 0)\n",
        "print(a)\n",
        "print(result)  # Output: [[0 0] [3 4]]\n"
      ],
      "metadata": {
        "colab": {
          "base_uri": "https://localhost:8080/"
        },
        "id": "DgOyq3smufqp",
        "outputId": "9615f76d-0874-4552-e958-8a8ddbce7737"
      },
      "execution_count": 10,
      "outputs": [
        {
          "output_type": "stream",
          "name": "stdout",
          "text": [
            "[[1 2]\n",
            " [3 4]]\n",
            "[[0 0]\n",
            " [3 4]]\n"
          ]
        }
      ]
    },
    {
      "cell_type": "code",
      "source": [
        "# Multiple Conditions\n",
        "import numpy as np\n",
        "\n",
        "a = np.array([1, 2, 3, 4, 5])\n",
        "result = np.where((a > 2) & (a < 5), a, 0)\n",
        "print(a)\n",
        "print(result)  # Output: [0 0 3 4 0]\n"
      ],
      "metadata": {
        "colab": {
          "base_uri": "https://localhost:8080/"
        },
        "id": "g7n1piuKu9TZ",
        "outputId": "8623fd35-9550-4981-b72c-efd0e244ada9"
      },
      "execution_count": 11,
      "outputs": [
        {
          "output_type": "stream",
          "name": "stdout",
          "text": [
            "[1 2 3 4 5]\n",
            "[0 0 3 4 0]\n"
          ]
        }
      ]
    },
    {
      "cell_type": "code",
      "source": [],
      "metadata": {
        "id": "cdkuV16svJEp"
      },
      "execution_count": null,
      "outputs": []
    }
  ]
}