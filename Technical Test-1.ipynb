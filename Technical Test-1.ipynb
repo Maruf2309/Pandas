{
 "cells": [
  {
   "cell_type": "code",
   "execution_count": 1,
   "id": "5f84dada",
   "metadata": {},
   "outputs": [],
   "source": [
    "import pandas as pd\n",
    "import numpy as np\n",
    "import re\n",
    "import warnings as wr\n",
    "wr.filterwarnings('ignore')"
   ]
  },
  {
   "cell_type": "markdown",
   "id": "54ac9d77",
   "metadata": {},
   "source": [
    "**Question1: implement a null value handling code by using  forward and backward fill in pandas**"
   ]
  },
  {
   "cell_type": "code",
   "execution_count": 2,
   "id": "f34ce69e",
   "metadata": {},
   "outputs": [
    {
     "name": "stdout",
     "output_type": "stream",
     "text": [
      "Sample Dataset:\n",
      "    Name   Age   Salary\n",
      "0   Asif  25.0      NaN\n",
      "1  Rahim  20.0  15000.0\n",
      "2  Karim   NaN  13500.0\n",
      "3   Rumi   NaN      NaN\n",
      "4   Rana  18.0      NaN\n",
      "5  Sobuj   NaN  13000.0\n",
      "Forward Fill: \n",
      "    Name   Age   Salary\n",
      "0   Asif  25.0      NaN\n",
      "1  Rahim  20.0  15000.0\n",
      "2  Karim  20.0  13500.0\n",
      "3   Rumi  20.0      NaN\n",
      "4   Rana  18.0      NaN\n",
      "5  Sobuj  18.0  13000.0\n",
      "Backward Fill : \n",
      "    Name   Age   Salary\n",
      "0   Asif  25.0  15000.0\n",
      "1  Rahim  20.0  15000.0\n",
      "2  Karim  20.0  13500.0\n",
      "3   Rumi  20.0  13000.0\n",
      "4   Rana  18.0  13000.0\n",
      "5  Sobuj  18.0  13000.0\n"
     ]
    }
   ],
   "source": [
    "# Solution Question 1:\n",
    "# Sample Dataset\n",
    "data = {\n",
    "    'Name': ['Asif','Rahim','Karim','Rumi','Rana','Sobuj'],\n",
    "    'Age': [25, 20, np.nan, np.nan, 18, np.nan],\n",
    "    'Salary':[np.nan,15000, 13500, np.nan, np.nan, 13000]\n",
    "}\n",
    "\n",
    "# Data Fram Conversion\n",
    "df = pd.DataFrame(data)\n",
    "print('Sample Dataset:')\n",
    "print(df)\n",
    "\n",
    "# Forward fill on Age column\n",
    "df['Age'] = df['Age'].fillna(method='ffill')\n",
    "print(f'Forward Fill: \\n{df}')\n",
    "\n",
    "# Backward fill on Salary column\n",
    "df['Salary'] = df['Salary'].fillna(method='backfill')\n",
    "print(f'Backward Fill : \\n{df}')\n"
   ]
  },
  {
   "cell_type": "markdown",
   "id": "7421491d",
   "metadata": {},
   "source": [
    "**Question 2: Implement a null value handling code by using cumulative  forward and backward mean fill in pandas**"
   ]
  },
  {
   "cell_type": "markdown",
   "id": "92280030",
   "metadata": {},
   "source": [
    "**Tasks**\n",
    "- Task 1: apply forward fill , example it filled by 1\n",
    "- Task 2: apply backward fill, example it filled by 3\n",
    "- Average: Get the average of above `TWO (1+3)/2 = 2` (Final filling-which will be balanced between forward & backward application"
   ]
  },
  {
   "cell_type": "code",
   "execution_count": 3,
   "id": "de672ee6",
   "metadata": {},
   "outputs": [
    {
     "name": "stdout",
     "output_type": "stream",
     "text": [
      "Original Dataset :\n",
      "   First Score  Second Score  Third Score\n",
      "0        100.0          60.0         70.0\n",
      "1          NaN           NaN         82.0\n",
      "2         85.0           NaN          NaN\n",
      "3          NaN          80.0         78.0\n",
      "4         90.0          65.0         85.0\n",
      "Cleaned Datased :\n",
      "   First Score  Second Score  Third Score\n",
      "0        100.0          60.0         70.0\n",
      "1         92.5          70.0         82.0\n",
      "2         85.0          70.0         80.0\n",
      "3         87.5          80.0         78.0\n",
      "4         90.0          65.0         85.0\n"
     ]
    }
   ],
   "source": [
    "# sample dataset\n",
    "data = {\n",
    "    'First Score':[100, np.nan, 85, np.nan, 90],\n",
    "    'Second Score':[60, np.nan, np.nan, 80, 65],\n",
    "    'Third Score': [70, 82, np.nan, 78, 85]\n",
    "}\n",
    "\n",
    "# DataFrame Conversion\n",
    "df = pd.DataFrame(data)\n",
    "\n",
    "# Define a fucntion for operation `Tasks 2` \n",
    "\n",
    "## Task1: Farward Fill:\n",
    "\n",
    "def balanced_mean(df):\n",
    "    \n",
    "    ## Forward Fill\n",
    "    forward = df.fillna(method='ffill')\n",
    "    \n",
    "    ## Backward fill\n",
    "    backward = df.fillna(method='bfill')\n",
    "    ## Average Calculation\n",
    "    df_mean = (forward + backward) / 2\n",
    "    \n",
    "    return df_mean\n",
    "\n",
    "## Missing Nulll by calling function (mean of forward & backward)\n",
    "df_cleaned = balanced_mean(df)\n",
    "\n",
    "# Printing\n",
    "print(f'Original Dataset :\\n{df}')\n",
    "print(f'Cleaned Datased :\\n{df_cleaned}')"
   ]
  },
  {
   "cell_type": "markdown",
   "id": "981405c9",
   "metadata": {},
   "source": [
    "**Question 3: Make a code for tokenization using regex**"
   ]
  },
  {
   "cell_type": "code",
   "execution_count": 4,
   "id": "c14eb120",
   "metadata": {},
   "outputs": [
    {
     "name": "stdout",
     "output_type": "stream",
     "text": [
      "['Python', 'is', 'a', 'high', 'level', 'general', 'purpose', 'programming', 'language', 'Python', 'is', 'a', 'programming', 'language', 'widely', 'used', 'by', 'Data', 'Scientists']\n"
     ]
    }
   ],
   "source": [
    "# import required package\n",
    "import re\n",
    "\n",
    "# sample text\n",
    "txt = \"Python is a high-level, general-purpose programming language.Python is a programming language widely used by Data Scientists\"\n",
    "\n",
    "# Regular Expression\n",
    "tokens = re.findall(r\"\\w+\", txt)\n",
    "\n",
    "# Print the tokens\n",
    "print(tokens)\n"
   ]
  },
  {
   "cell_type": "markdown",
   "id": "63f0b45f",
   "metadata": {},
   "source": [
    "**Question 4: How to fetch email and phone number from a text using regex**"
   ]
  },
  {
   "cell_type": "code",
   "execution_count": 7,
   "id": "1ed12ac1",
   "metadata": {},
   "outputs": [
    {
     "name": "stdout",
     "output_type": "stream",
     "text": [
      "Email : ['maruf@gmail.com', 'maruf@yahoo.com']\n",
      "Phone : ['01717224971', '01777733889']\n"
     ]
    }
   ],
   "source": [
    "# sample text comtaining phone & email\n",
    "txt = \"Here my contact details, please contact me at maruf@gmail.com  & maruf@yahoo.com and phone at 01717224971 & 01777733889\"\n",
    "\n",
    "# Email Pattern\n",
    "email = r'\\b[A-Za-z0-9._%+-]+@[A-Za-z0-9.-]+\\.[A-Z|a-z]{2,7}\\b'\n",
    "# Phone Pattern\n",
    "phone = r'\\b\\d{11}\\b'\n",
    "\n",
    "# Find all emails\n",
    "emails = re.findall(email,txt)\n",
    "\n",
    "# Find all phone number\n",
    "phone = re.findall(phone, txt)\n",
    "\n",
    "print(\"Email :\", emails)\n",
    "print(\"Phone :\", phone)"
   ]
  },
  {
   "cell_type": "markdown",
   "id": "68efb08e",
   "metadata": {},
   "source": [
    "**Question 5: Fetch multiple products from rokomari dot com from any category**"
   ]
  },
  {
   "cell_type": "code",
   "execution_count": null,
   "id": "cff62230",
   "metadata": {},
   "outputs": [],
   "source": [
    "from selenium import webdriver\n",
    "from selenium.webdriver.common.by import By\n",
    "from selenium.webdriver.chrome.service import Service\n",
    "from webdriver_manager.chrome import ChromeDriverManager\n",
    "import time\n",
    "\n",
    "# Set up the WebDriver\n",
    "driver = webdriver.Chrome(service=Service(ChromeDriverManager().install()))\n",
    "\n",
    "# Maximize the browser window       \n",
    "driver.maximize_window()\n",
    "\n",
    "# Open Rokomari website\n",
    "driver.get(\"https://www.rokomari.com\")\n",
    "\n",
    "# Allow the page to load\n",
    "time.sleep(3)\n",
    "\n",
    "# Navigate to a specific category (e.g., Books)\n",
    "category_link = driver.find_element(By.LINK_TEXT, \"Books\")\n",
    "category_link.click()\n",
    "\n",
    "# Allow the category page to load\n",
    "time.sleep(3)\n",
    "\n",
    "# Fetch product details\n",
    "products = driver.find_elements(By.CLASS_NAME, \"book-list-wrapper\")\n",
    "\n",
    "for product in products:\n",
    "    title = product.find_element(By.CLASS_NAME, \"book-title\").text\n",
    "    author = product.find_element(By.CLASS_NAME, \"book-author\").text\n",
    "    price = product.find_element(By.CLASS_NAME, \"book-price\").text\n",
    "    print(f\"Title: {title}, Author: {author}, Price: {price}\")\n",
    "\n",
    "# Close the WebDriver\n",
    "driver.quit()"
   ]
  }
 ],
 "metadata": {
  "kernelspec": {
   "display_name": "Python 3 (ipykernel)",
   "language": "python",
   "name": "python3"
  },
  "language_info": {
   "codemirror_mode": {
    "name": "ipython",
    "version": 3
   },
   "file_extension": ".py",
   "mimetype": "text/x-python",
   "name": "python",
   "nbconvert_exporter": "python",
   "pygments_lexer": "ipython3",
   "version": "3.10.6"
  }
 },
 "nbformat": 4,
 "nbformat_minor": 5
}
